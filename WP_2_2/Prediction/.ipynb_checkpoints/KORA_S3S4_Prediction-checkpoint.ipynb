{
 "cells": [
  {
   "cell_type": "code",
   "execution_count": 1,
   "metadata": {},
   "outputs": [],
   "source": [
    "from sklearn.model_selection import train_test_split\n",
    "import pandas as pd\n",
    "import numpy as np\n",
    "import matplotlib.pyplot as plt\n",
    "from sklearn import linear_model, preprocessing\n",
    "from sklearn.ensemble import RandomForestRegressor\n",
    "from sklearn.metrics import mean_squared_error, mean_absolute_error, r2_score\n",
    "from pygam import GAM, s, f, LinearGAM\n",
    "import warnings\n",
    "warnings.filterwarnings('ignore')"
   ]
  },
  {
   "cell_type": "markdown",
   "metadata": {},
   "source": [
    "### Import Data"
   ]
  },
  {
   "cell_type": "code",
   "execution_count": 2,
   "metadata": {},
   "outputs": [
    {
     "name": "stdout",
     "output_type": "stream",
     "text": [
      "               sex          age          bmi      smoking     lden_org  \\\n",
      "count  9116.000000  9116.000000  9116.000000  9116.000000  9116.000000   \n",
      "mean      0.492979    49.555836    27.115082     2.169263    54.726163   \n",
      "std       0.499978    14.033439     4.594119     0.810235     6.564306   \n",
      "min       0.000000    24.000000    15.840000     1.000000    30.000000   \n",
      "25%       0.000000    37.000000    23.940000     1.000000    50.600000   \n",
      "50%       0.000000    50.000000    26.580000     2.000000    53.900000   \n",
      "75%       1.000000    61.000000    29.630000     3.000000    58.500000   \n",
      "max       1.000000    75.000000    56.930000     3.000000    77.500000   \n",
      "\n",
      "           bp_syst  \n",
      "count  9116.000000  \n",
      "mean    130.545470  \n",
      "std      19.540302  \n",
      "min      77.000000  \n",
      "25%     116.500000  \n",
      "50%     128.250000  \n",
      "75%     142.000000  \n",
      "max     228.000000  \n"
     ]
    }
   ],
   "source": [
    "data_path = '../../KORA_Noise_CleanData_MiniModel.csv'\n",
    "data = pd.read_csv(data_path)\n",
    "print(data.describe())"
   ]
  },
  {
   "cell_type": "code",
   "execution_count": 3,
   "metadata": {},
   "outputs": [
    {
     "name": "stdout",
     "output_type": "stream",
     "text": [
      "   sex   age    bmi  smoking  lden_org\n",
      "0  0.0  31.0  18.94      2.0      41.0\n",
      "1  1.0  40.0  27.14      2.0      55.2\n",
      "2  1.0  59.0  30.34      3.0      55.2\n",
      "3  0.0  62.0  19.46      1.0      46.8\n",
      "4  0.0  62.0  31.25      2.0      51.2\n",
      "Data description \n",
      "\n",
      "Sex: Female = 0, Male = 1 \n",
      "Smoking: Current = 1, Ex-smoker = 2, Never-smoker =3 \n",
      " \n"
     ]
    }
   ],
   "source": [
    "X = data.drop(['bp_syst'], axis = 1)\n",
    "print(X.head())\n",
    "\n",
    "# Output is the systolic Blood Pressure \n",
    "Y_SBP = data['bp_syst']\n",
    "\n",
    "print('Data description \\n')\n",
    "print('Sex: Female = 0, Male = 1 \\nSmoking: Current = 1, Ex-smoker = 2, Never-smoker =3 \\n ')\n"
   ]
  },
  {
   "cell_type": "markdown",
   "metadata": {},
   "source": [
    "### Train-Test data split"
   ]
  },
  {
   "cell_type": "code",
   "execution_count": 4,
   "metadata": {},
   "outputs": [],
   "source": [
    "# original data\n",
    "X_train, X_test, y_train, y_test = train_test_split(X, Y_SBP, test_size = 0.2, random_state = 10)"
   ]
  },
  {
   "cell_type": "markdown",
   "metadata": {},
   "source": [
    "# Prediction with LR"
   ]
  },
  {
   "cell_type": "code",
   "execution_count": 5,
   "metadata": {},
   "outputs": [
    {
     "name": "stdout",
     "output_type": "stream",
     "text": [
      "Mean squared error (MSE) : 294.79\n",
      "Mean absolute error (MAE) : 13.07\n",
      "R^2: 0.27\n"
     ]
    }
   ],
   "source": [
    "LR = linear_model.LinearRegression().fit(X_train, y_train)\n",
    "y_pred_LR = LR.predict(X_test)\n",
    "print(f'Mean squared error (MSE) : {mean_squared_error(y_test, y_pred_LR):.2f}')\n",
    "print(f'Mean absolute error (MAE) : {mean_absolute_error(y_test, y_pred_LR):.2f}')\n",
    "print(f'R^2: {r2_score(y_test, y_pred_LR):.2f}')"
   ]
  },
  {
   "cell_type": "markdown",
   "metadata": {},
   "source": [
    "# Prediction with GAM"
   ]
  },
  {
   "cell_type": "code",
   "execution_count": 6,
   "metadata": {
    "scrolled": false
   },
   "outputs": [
    {
     "name": "stdout",
     "output_type": "stream",
     "text": [
      "Mean squared error (MSE) : 293.11\n",
      "Mean absolute error (MAE) : 13.02\n",
      "R^2: 0.27\n"
     ]
    }
   ],
   "source": [
    "# Building the model with Pygam\n",
    "\n",
    "gam_pyGam = GAM(f(0) + s(1) + s(2) + f(3) + s(4)).fit(X_train, y_train)\n",
    "#gam_pyGam.summary()\n",
    "y_pred_GAM = gam_pyGam.predict(X_test)\n",
    "print(f'Mean squared error (MSE) : {mean_squared_error(y_test, y_pred_GAM):.2f}')\n",
    "print(f'Mean absolute error (MAE) : {mean_absolute_error(y_test, y_pred_GAM):.2f}')\n",
    "print(f'R^2: {r2_score(y_test, y_pred_GAM):.2f}')"
   ]
  },
  {
   "cell_type": "markdown",
   "metadata": {},
   "source": [
    "# Prediction with Random Forest"
   ]
  },
  {
   "cell_type": "code",
   "execution_count": 7,
   "metadata": {},
   "outputs": [
    {
     "name": "stdout",
     "output_type": "stream",
     "text": [
      "Mean squared error (MSE) : 299.10\n",
      "Mean absolute error (MAE) : 13.20\n",
      "R^2: 0.26\n"
     ]
    }
   ],
   "source": [
    "RF = RandomForestRegressor(n_estimators= 10, max_depth= 10, random_state= 0, max_features='sqrt').fit(X_train, y_train)\n",
    "y_pred_RF = RF.predict(X_test)\n",
    "print(f'Mean squared error (MSE) : {mean_squared_error(y_test, y_pred_RF):.2f}')\n",
    "print(f'Mean absolute error (MAE) : {mean_absolute_error(y_test, y_pred_RF):.2f}')\n",
    "print(f'R^2: {r2_score(y_test, y_pred_RF):.2f}')"
   ]
  },
  {
   "cell_type": "code",
   "execution_count": null,
   "metadata": {},
   "outputs": [],
   "source": []
  },
  {
   "cell_type": "markdown",
   "metadata": {},
   "source": [
    "# Try Pysddr"
   ]
  },
  {
   "cell_type": "code",
   "execution_count": 8,
   "metadata": {},
   "outputs": [],
   "source": [
    "from sddr import Sddr\n",
    "import torch.nn as nn\n",
    "import pandas as pd\n",
    "import torch.optim as optim"
   ]
  },
  {
   "cell_type": "code",
   "execution_count": 9,
   "metadata": {},
   "outputs": [],
   "source": [
    "X[\"sex\"]=X.sex.astype(\"category\")\n",
    "X[\"smoking\"]=X.smoking.astype(\"category\")\n",
    "X['bp_syst']=Y_SBP\n",
    "X_train, X_test = train_test_split(X, test_size = 0.2, random_state = 10)"
   ]
  },
  {
   "cell_type": "code",
   "execution_count": 52,
   "metadata": {},
   "outputs": [
    {
     "data": {
      "text/html": [
       "<div>\n",
       "<style scoped>\n",
       "    .dataframe tbody tr th:only-of-type {\n",
       "        vertical-align: middle;\n",
       "    }\n",
       "\n",
       "    .dataframe tbody tr th {\n",
       "        vertical-align: top;\n",
       "    }\n",
       "\n",
       "    .dataframe thead th {\n",
       "        text-align: right;\n",
       "    }\n",
       "</style>\n",
       "<table border=\"1\" class=\"dataframe\">\n",
       "  <thead>\n",
       "    <tr style=\"text-align: right;\">\n",
       "      <th></th>\n",
       "      <th>sex</th>\n",
       "      <th>age</th>\n",
       "      <th>bmi</th>\n",
       "      <th>smoking</th>\n",
       "      <th>lden_org</th>\n",
       "      <th>bp_syst</th>\n",
       "    </tr>\n",
       "  </thead>\n",
       "  <tbody>\n",
       "    <tr>\n",
       "      <th>2153</th>\n",
       "      <td>1.0</td>\n",
       "      <td>75.0</td>\n",
       "      <td>24.81</td>\n",
       "      <td>2.0</td>\n",
       "      <td>60.1</td>\n",
       "      <td>151.0</td>\n",
       "    </tr>\n",
       "    <tr>\n",
       "      <th>5070</th>\n",
       "      <td>0.0</td>\n",
       "      <td>39.0</td>\n",
       "      <td>25.44</td>\n",
       "      <td>2.0</td>\n",
       "      <td>68.9</td>\n",
       "      <td>128.0</td>\n",
       "    </tr>\n",
       "    <tr>\n",
       "      <th>4965</th>\n",
       "      <td>1.0</td>\n",
       "      <td>57.0</td>\n",
       "      <td>27.02</td>\n",
       "      <td>2.0</td>\n",
       "      <td>55.4</td>\n",
       "      <td>162.0</td>\n",
       "    </tr>\n",
       "    <tr>\n",
       "      <th>590</th>\n",
       "      <td>1.0</td>\n",
       "      <td>33.0</td>\n",
       "      <td>25.73</td>\n",
       "      <td>2.0</td>\n",
       "      <td>59.0</td>\n",
       "      <td>131.0</td>\n",
       "    </tr>\n",
       "    <tr>\n",
       "      <th>1459</th>\n",
       "      <td>0.0</td>\n",
       "      <td>71.0</td>\n",
       "      <td>28.07</td>\n",
       "      <td>2.0</td>\n",
       "      <td>56.0</td>\n",
       "      <td>137.0</td>\n",
       "    </tr>\n",
       "    <tr>\n",
       "      <th>...</th>\n",
       "      <td>...</td>\n",
       "      <td>...</td>\n",
       "      <td>...</td>\n",
       "      <td>...</td>\n",
       "      <td>...</td>\n",
       "      <td>...</td>\n",
       "    </tr>\n",
       "    <tr>\n",
       "      <th>4829</th>\n",
       "      <td>0.0</td>\n",
       "      <td>53.0</td>\n",
       "      <td>24.18</td>\n",
       "      <td>1.0</td>\n",
       "      <td>54.8</td>\n",
       "      <td>145.0</td>\n",
       "    </tr>\n",
       "    <tr>\n",
       "      <th>7291</th>\n",
       "      <td>1.0</td>\n",
       "      <td>64.0</td>\n",
       "      <td>31.67</td>\n",
       "      <td>3.0</td>\n",
       "      <td>53.7</td>\n",
       "      <td>153.0</td>\n",
       "    </tr>\n",
       "    <tr>\n",
       "      <th>1344</th>\n",
       "      <td>0.0</td>\n",
       "      <td>31.0</td>\n",
       "      <td>22.14</td>\n",
       "      <td>1.0</td>\n",
       "      <td>61.0</td>\n",
       "      <td>100.5</td>\n",
       "    </tr>\n",
       "    <tr>\n",
       "      <th>7293</th>\n",
       "      <td>1.0</td>\n",
       "      <td>60.0</td>\n",
       "      <td>31.38</td>\n",
       "      <td>2.0</td>\n",
       "      <td>48.4</td>\n",
       "      <td>204.0</td>\n",
       "    </tr>\n",
       "    <tr>\n",
       "      <th>1289</th>\n",
       "      <td>1.0</td>\n",
       "      <td>52.0</td>\n",
       "      <td>27.87</td>\n",
       "      <td>1.0</td>\n",
       "      <td>66.3</td>\n",
       "      <td>184.0</td>\n",
       "    </tr>\n",
       "  </tbody>\n",
       "</table>\n",
       "<p>7292 rows × 6 columns</p>\n",
       "</div>"
      ],
      "text/plain": [
       "      sex   age    bmi smoking  lden_org  bp_syst\n",
       "2153  1.0  75.0  24.81     2.0      60.1    151.0\n",
       "5070  0.0  39.0  25.44     2.0      68.9    128.0\n",
       "4965  1.0  57.0  27.02     2.0      55.4    162.0\n",
       "590   1.0  33.0  25.73     2.0      59.0    131.0\n",
       "1459  0.0  71.0  28.07     2.0      56.0    137.0\n",
       "...   ...   ...    ...     ...       ...      ...\n",
       "4829  0.0  53.0  24.18     1.0      54.8    145.0\n",
       "7291  1.0  64.0  31.67     3.0      53.7    153.0\n",
       "1344  0.0  31.0  22.14     1.0      61.0    100.5\n",
       "7293  1.0  60.0  31.38     2.0      48.4    204.0\n",
       "1289  1.0  52.0  27.87     1.0      66.3    184.0\n",
       "\n",
       "[7292 rows x 6 columns]"
      ]
     },
     "execution_count": 52,
     "metadata": {},
     "output_type": "execute_result"
    }
   ],
   "source": [
    "X_train"
   ]
  },
  {
   "cell_type": "code",
   "execution_count": 10,
   "metadata": {},
   "outputs": [],
   "source": [
    "# define distribution and the formula for the distibutional parameter\n",
    "distribution  = 'Poisson'\n",
    "formulas = {'rate': '~1+sex+smoking+spline(age, bs=\"bs\",df=9)+spline(bmi, bs=\"bs\",df=9)+spline(lden_org, bs=\"bs\",df=9)+d1(age)+d2(bmi)+d3(lden_org)'}\n",
    "\n",
    "# define the deep neural networks' architectures and output shapes used in the above formula\n",
    "deep_models_dict = {\n",
    "'d1': {\n",
    "    'model': nn.Sequential(nn.Linear(1,3),nn.ReLU(), nn.Linear(3,8)),\n",
    "    'output_shape': 8},\n",
    "'d2': {\n",
    "    'model': nn.Sequential(nn.Linear(1,3),nn.ReLU(), nn.Linear(3,8)),\n",
    "    'output_shape': 8},\n",
    "'d3': {\n",
    "    'model': nn.Sequential(nn.Linear(1,3),nn.ReLU(), nn.Linear(3,8)),\n",
    "    'output_shape': 8}\n",
    "}\n",
    "\n",
    "# define your training hyperparameters\n",
    "train_parameters = {\n",
    "    'batch_size': 1000,\n",
    "    'epochs': 200,\n",
    "    'degrees_of_freedom': {'rate':6},\n",
    "    'optimizer' : optim.RMSprop,\n",
    "    'val_split': 0.1\n",
    "    }\n",
    "\n",
    "# define output directory\n",
    "output_dir = './outputs'"
   ]
  },
  {
   "cell_type": "code",
   "execution_count": 11,
   "metadata": {},
   "outputs": [
    {
     "name": "stdout",
     "output_type": "stream",
     "text": [
      "Using device:  cpu\n"
     ]
    }
   ],
   "source": [
    "sddr = Sddr(output_dir=output_dir,\n",
    "            distribution=distribution,\n",
    "            formulas=formulas,\n",
    "            deep_models_dict=deep_models_dict,\n",
    "            train_parameters=train_parameters,\n",
    "            )"
   ]
  },
  {
   "cell_type": "code",
   "execution_count": 12,
   "metadata": {},
   "outputs": [
    {
     "name": "stdout",
     "output_type": "stream",
     "text": [
      "Beginning training ...\n",
      "Train Epoch: 0 \t Training Loss: 483.331765\n",
      "Train Epoch: 0 \t Validation Loss: 410.281647\n",
      "Train Epoch: 20 \t Training Loss: 68.545290\n",
      "Train Epoch: 20 \t Validation Loss: 70.444283\n",
      "Train Epoch: 40 \t Training Loss: 42.450026\n",
      "Train Epoch: 40 \t Validation Loss: 42.668221\n",
      "Train Epoch: 60 \t Training Loss: 22.498569\n",
      "Train Epoch: 60 \t Validation Loss: 22.277363\n",
      "Train Epoch: 80 \t Training Loss: 8.498689\n",
      "Train Epoch: 80 \t Validation Loss: 8.023243\n",
      "Train Epoch: 100 \t Training Loss: 4.780692\n",
      "Train Epoch: 100 \t Validation Loss: 4.697247\n",
      "Train Epoch: 120 \t Training Loss: 4.625669\n",
      "Train Epoch: 120 \t Validation Loss: 4.653118\n",
      "Train Epoch: 140 \t Training Loss: 4.605811\n",
      "Train Epoch: 140 \t Validation Loss: 4.646790\n",
      "Train Epoch: 160 \t Training Loss: 4.627177\n",
      "Train Epoch: 160 \t Validation Loss: 4.632544\n",
      "Train Epoch: 180 \t Training Loss: 4.626998\n",
      "Train Epoch: 180 \t Validation Loss: 4.630717\n"
     ]
    },
    {
     "data": {
      "image/png": "[encoded data removed]",
      "text/plain": [
       "<Figure size 432x288 with 1 Axes>"
      ]
     },
     "metadata": {
      "needs_background": "light"
     },
     "output_type": "display_data"
    }
   ],
   "source": [
    "sddr.train(structured_data=X_train,\n",
    "           target='bp_syst',\n",
    "           plot=True)"
   ]
  },
  {
   "cell_type": "code",
   "execution_count": 13,
   "metadata": {},
   "outputs": [
    {
     "data": {
      "image/png": "[encoded data removed]",
      "text/plain": [
       "<Figure size 720x360 with 3 Axes>"
      ]
     },
     "metadata": {
      "needs_background": "light"
     },
     "output_type": "display_data"
    }
   ],
   "source": [
    "distribution_layer, partial_effects_loaded = sddr.predict(X_test, plot=True)"
   ]
  },
  {
   "cell_type": "code",
   "execution_count": 14,
   "metadata": {},
   "outputs": [
    {
     "data": {
      "text/plain": [
       "tensor([[135.7566],\n",
       "        [129.1709],\n",
       "        [136.5466],\n",
       "        ...,\n",
       "        [147.1514],\n",
       "        [140.4928],\n",
       "        [146.1878]])"
      ]
     },
     "execution_count": 14,
     "metadata": {},
     "output_type": "execute_result"
    }
   ],
   "source": [
    "distribution_layer.mean"
   ]
  },
  {
   "cell_type": "code",
   "execution_count": 15,
   "metadata": {},
   "outputs": [
    {
     "data": {
      "text/plain": [
       "7242    134.0\n",
       "7295    152.0\n",
       "2879    142.0\n",
       "1162    133.5\n",
       "6798    136.0\n",
       "        ...  \n",
       "192     118.0\n",
       "2312    142.0\n",
       "8610    154.0\n",
       "2519    130.0\n",
       "5109    139.0\n",
       "Name: bp_syst, Length: 1824, dtype: float64"
      ]
     },
     "execution_count": 15,
     "metadata": {},
     "output_type": "execute_result"
    }
   ],
   "source": [
    "X_test[\"bp_syst\"]"
   ]
  },
  {
   "cell_type": "code",
   "execution_count": 16,
   "metadata": {},
   "outputs": [
    {
     "name": "stdout",
     "output_type": "stream",
     "text": [
      "Mean squared error (MSE) : 301.37\n",
      "Mean absolute error (MAE) : 13.48\n",
      "R^2: -1.61\n"
     ]
    }
   ],
   "source": [
    "print(f'Mean squared error (MSE) : {mean_squared_error(distribution_layer.mean, X_test[\"bp_syst\"]):.2f}')\n",
    "print(f'Mean absolute error (MAE) : {mean_absolute_error(distribution_layer.mean, X_test[\"bp_syst\"]):.2f}')\n",
    "print(f'R^2: {r2_score(distribution_layer.mean, X_test[\"bp_syst\"]):.2f}')"
   ]
  },
  {
   "cell_type": "code",
   "execution_count": null,
   "metadata": {},
   "outputs": [],
   "source": []
  },
  {
   "cell_type": "code",
   "execution_count": null,
   "metadata": {},
   "outputs": [],
   "source": []
  }
 ],
 "metadata": {
  "kernelspec": {
   "display_name": "Python 3",
   "language": "python",
   "name": "python3"
  },
  "language_info": {
   "codemirror_mode": {
    "name": "ipython",
    "version": 3
   },
   "file_extension": ".py",
   "mimetype": "text/x-python",
   "name": "python",
   "nbconvert_exporter": "python",
   "pygments_lexer": "ipython3",
   "version": "3.8.5"
  }
 },
 "nbformat": 4,
 "nbformat_minor": 4
}
