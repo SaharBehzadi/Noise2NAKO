{
 "cells": [
  {
   "cell_type": "code",
   "execution_count": 1,
   "metadata": {},
   "outputs": [],
   "source": [
    "from sklearn.model_selection import train_test_split\n",
    "import pandas as pd\n",
    "import numpy as np\n",
    "import matplotlib.pyplot as plt\n",
    "from sklearn import linear_model, preprocessing\n",
    "from sklearn.ensemble import RandomForestRegressor\n",
    "from sklearn.metrics import mean_squared_error, mean_absolute_error, r2_score\n",
    "from pygam import GAM, s, f, LinearGAM\n",
    "import warnings\n",
    "warnings.filterwarnings('ignore')"
   ]
  },
  {
   "cell_type": "code",
   "execution_count": 2,
   "metadata": {},
   "outputs": [],
   "source": [
    "%load_ext autoreload\n",
    "%autoreload 2"
   ]
  },
  {
   "cell_type": "markdown",
   "metadata": {},
   "source": [
    "### Import Data"
   ]
  },
  {
   "cell_type": "code",
   "execution_count": 3,
   "metadata": {},
   "outputs": [
    {
     "name": "stdout",
     "output_type": "stream",
     "text": [
      "Index(['sex', 'age', 'bmi', 'smoking', 'lden_org', 'bp_syst'], dtype='object')\n"
     ]
    }
   ],
   "source": [
    "data_path = '../../KORA_Noise_CleanData_MiniModel.csv'\n",
    "data = pd.read_csv(data_path)\n",
    "print(data.columns)"
   ]
  },
  {
   "cell_type": "code",
   "execution_count": 4,
   "metadata": {},
   "outputs": [
    {
     "name": "stdout",
     "output_type": "stream",
     "text": [
      "   sex   age    bmi  smoking  lden_org\n",
      "0  0.0  31.0  18.94      2.0      41.0\n",
      "1  1.0  40.0  27.14      2.0      55.2\n",
      "2  1.0  59.0  30.34      3.0      55.2\n",
      "3  0.0  62.0  19.46      1.0      46.8\n",
      "4  0.0  62.0  31.25      2.0      51.2\n",
      "Data description \n",
      "\n",
      "Sex: Female = 0, Male = 1 \n",
      "Smoking: Current = 1, Ex-smoker = 2, Never-smoker =3 \n",
      " \n"
     ]
    }
   ],
   "source": [
    "X = data.drop(['bp_syst'], axis = 1)\n",
    "print(X.head())\n",
    "\n",
    "# Output is the systolic Blood Pressure \n",
    "Y_SBP = data['bp_syst']\n",
    "\n",
    "print('Data description \\n')\n",
    "print('Sex: Female = 0, Male = 1 \\nSmoking: Current = 1, Ex-smoker = 2, Never-smoker =3 \\n ')"
   ]
  },
  {
   "cell_type": "markdown",
   "metadata": {},
   "source": [
    "### Train-Test data split"
   ]
  },
  {
   "cell_type": "code",
   "execution_count": 5,
   "metadata": {},
   "outputs": [],
   "source": [
    "# original data\n",
    "X_train, X_test, y_train, y_test = train_test_split(X, Y_SBP, test_size = 0.2, random_state = 10)"
   ]
  },
  {
   "cell_type": "markdown",
   "metadata": {},
   "source": [
    "# Prediction with LR"
   ]
  },
  {
   "cell_type": "code",
   "execution_count": 6,
   "metadata": {},
   "outputs": [
    {
     "name": "stdout",
     "output_type": "stream",
     "text": [
      "Mean squared error (MSE) : 294.79\n",
      "Mean absolute error (MAE) : 13.07\n",
      "R^2: 0.27\n"
     ]
    }
   ],
   "source": [
    "LR = linear_model.LinearRegression().fit(X_train, y_train)\n",
    "y_pred_LR = LR.predict(X_test)\n",
    "print(f'Mean squared error (MSE) : {mean_squared_error(y_test, y_pred_LR):.2f}')\n",
    "print(f'Mean absolute error (MAE) : {mean_absolute_error(y_test, y_pred_LR):.2f}')\n",
    "print(f'R^2: {r2_score(y_test, y_pred_LR):.2f}')"
   ]
  },
  {
   "cell_type": "markdown",
   "metadata": {},
   "source": [
    "# Prediction with GAM"
   ]
  },
  {
   "cell_type": "code",
   "execution_count": 7,
   "metadata": {
    "scrolled": false
   },
   "outputs": [
    {
     "name": "stdout",
     "output_type": "stream",
     "text": [
      "Mean squared error (MSE) : 293.11\n",
      "Mean absolute error (MAE) : 13.02\n",
      "R^2: 0.27\n"
     ]
    }
   ],
   "source": [
    "# Building the model with Pygam\n",
    "\n",
    "gam_pyGam = GAM(f(0) + s(1) + s(2) + f(3) + s(4)).fit(X_train, y_train)\n",
    "#gam_pyGam.summary()\n",
    "y_pred_GAM = gam_pyGam.predict(X_test)\n",
    "print(f'Mean squared error (MSE) : {mean_squared_error(y_test, y_pred_GAM):.2f}')\n",
    "print(f'Mean absolute error (MAE) : {mean_absolute_error(y_test, y_pred_GAM):.2f}')\n",
    "print(f'R^2: {r2_score(y_test, y_pred_GAM):.2f}')"
   ]
  },
  {
   "cell_type": "markdown",
   "metadata": {},
   "source": [
    "# Prediction with Random Forest"
   ]
  },
  {
   "cell_type": "code",
   "execution_count": 8,
   "metadata": {},
   "outputs": [
    {
     "name": "stdout",
     "output_type": "stream",
     "text": [
      "Mean squared error (MSE) : 299.10\n",
      "Mean absolute error (MAE) : 13.20\n",
      "R^2: 0.26\n"
     ]
    }
   ],
   "source": [
    "RF = RandomForestRegressor(n_estimators= 10, max_depth= 10, random_state= 0, max_features='sqrt').fit(X_train, y_train)\n",
    "y_pred_RF = RF.predict(X_test)\n",
    "print(f'Mean squared error (MSE) : {mean_squared_error(y_test, y_pred_RF):.2f}')\n",
    "print(f'Mean absolute error (MAE) : {mean_absolute_error(y_test, y_pred_RF):.2f}')\n",
    "print(f'R^2: {r2_score(y_test, y_pred_RF):.2f}')"
   ]
  },
  {
   "cell_type": "markdown",
   "metadata": {},
   "source": [
    "# Try Pysddr"
   ]
  },
  {
   "cell_type": "code",
   "execution_count": 9,
   "metadata": {},
   "outputs": [],
   "source": [
    "from sddr import Sddr\n",
    "import torch.nn as nn\n",
    "import pandas as pd\n",
    "import torch.optim as optim"
   ]
  },
  {
   "cell_type": "code",
   "execution_count": 10,
   "metadata": {},
   "outputs": [
    {
     "name": "stdout",
     "output_type": "stream",
     "text": [
      "   sex   age    bmi  smoking  lden_org\n",
      "0  0.0  31.0  18.94      2.0      41.0\n",
      "1  1.0  40.0  27.14      2.0      55.2\n",
      "2  1.0  59.0  30.34      3.0      55.2\n",
      "3  0.0  62.0  19.46      1.0      46.8\n",
      "4  0.0  62.0  31.25      2.0      51.2\n",
      "Data description \n",
      "\n",
      "Sex: Female = 0, Male = 1 \n",
      "Smoking: Current = 1, Ex-smoker = 2, Never-smoker =3 \n",
      " \n"
     ]
    }
   ],
   "source": [
    "data_path = '../../KORA_Noise_CleanData_MiniModel.csv'\n",
    "data = pd.read_csv(data_path)\n",
    "\n",
    "X = data.drop(['bp_syst'], axis = 1)\n",
    "print(X.head())\n",
    "\n",
    "# Output is the systolic Blood Pressure \n",
    "Y_SBP = data['bp_syst']\n",
    "\n",
    "print('Data description \\n')\n",
    "print('Sex: Female = 0, Male = 1 \\nSmoking: Current = 1, Ex-smoker = 2, Never-smoker =3 \\n ')"
   ]
  },
  {
   "cell_type": "code",
   "execution_count": 16,
   "metadata": {},
   "outputs": [],
   "source": [
    "# data preprocessing and normalization\n",
    "X['age'] = (X['age']-X['age'].min())/(X['age'].max()-X['age'].min())\n",
    "X['bmi'] = (X['bmi']-X['bmi'].min())/(X['bmi'].max()-X['bmi'].min())\n",
    "X['lden_org'] = (X['lden_org']-X['lden_org'].min())/(X['lden_org'].max()-X['lden_org'].min())\n",
    "X[\"sex\"]=X.sex.astype(\"category\")\n",
    "X[\"smoking\"]=X.smoking.astype(\"category\")\n",
    "X['bp_syst']=round(Y_SBP)  #since possion distribution only support integer target values\n",
    "# X=X.join(pd.get_dummies(X[\"smoking\"],prefix='smoking',dtype=np.float64))  # change categorical values to one hot value\n",
    "# X=X.join(pd.get_dummies(X[\"sex\"],prefix='sex',dtype=np.float64))\n",
    "X_train, X_test = train_test_split(X, test_size = 0.2, random_state = 10)"
   ]
  },
  {
   "cell_type": "code",
   "execution_count": 17,
   "metadata": {},
   "outputs": [
    {
     "data": {
      "text/html": [
       "<div>\n",
       "<style scoped>\n",
       "    .dataframe tbody tr th:only-of-type {\n",
       "        vertical-align: middle;\n",
       "    }\n",
       "\n",
       "    .dataframe tbody tr th {\n",
       "        vertical-align: top;\n",
       "    }\n",
       "\n",
       "    .dataframe thead th {\n",
       "        text-align: right;\n",
       "    }\n",
       "</style>\n",
       "<table border=\"1\" class=\"dataframe\">\n",
       "  <thead>\n",
       "    <tr style=\"text-align: right;\">\n",
       "      <th></th>\n",
       "      <th>sex</th>\n",
       "      <th>age</th>\n",
       "      <th>bmi</th>\n",
       "      <th>smoking</th>\n",
       "      <th>lden_org</th>\n",
       "      <th>bp_syst</th>\n",
       "    </tr>\n",
       "  </thead>\n",
       "  <tbody>\n",
       "    <tr>\n",
       "      <th>2153</th>\n",
       "      <td>1.0</td>\n",
       "      <td>1.000000</td>\n",
       "      <td>0.218301</td>\n",
       "      <td>2.0</td>\n",
       "      <td>0.633684</td>\n",
       "      <td>151.0</td>\n",
       "    </tr>\n",
       "    <tr>\n",
       "      <th>5070</th>\n",
       "      <td>0.0</td>\n",
       "      <td>0.294118</td>\n",
       "      <td>0.233633</td>\n",
       "      <td>2.0</td>\n",
       "      <td>0.818947</td>\n",
       "      <td>128.0</td>\n",
       "    </tr>\n",
       "    <tr>\n",
       "      <th>4965</th>\n",
       "      <td>1.0</td>\n",
       "      <td>0.647059</td>\n",
       "      <td>0.272086</td>\n",
       "      <td>2.0</td>\n",
       "      <td>0.534737</td>\n",
       "      <td>162.0</td>\n",
       "    </tr>\n",
       "    <tr>\n",
       "      <th>590</th>\n",
       "      <td>1.0</td>\n",
       "      <td>0.176471</td>\n",
       "      <td>0.240691</td>\n",
       "      <td>2.0</td>\n",
       "      <td>0.610526</td>\n",
       "      <td>131.0</td>\n",
       "    </tr>\n",
       "    <tr>\n",
       "      <th>1459</th>\n",
       "      <td>0.0</td>\n",
       "      <td>0.921569</td>\n",
       "      <td>0.297639</td>\n",
       "      <td>2.0</td>\n",
       "      <td>0.547368</td>\n",
       "      <td>137.0</td>\n",
       "    </tr>\n",
       "    <tr>\n",
       "      <th>...</th>\n",
       "      <td>...</td>\n",
       "      <td>...</td>\n",
       "      <td>...</td>\n",
       "      <td>...</td>\n",
       "      <td>...</td>\n",
       "      <td>...</td>\n",
       "    </tr>\n",
       "    <tr>\n",
       "      <th>4829</th>\n",
       "      <td>0.0</td>\n",
       "      <td>0.568627</td>\n",
       "      <td>0.202969</td>\n",
       "      <td>1.0</td>\n",
       "      <td>0.522105</td>\n",
       "      <td>145.0</td>\n",
       "    </tr>\n",
       "    <tr>\n",
       "      <th>7291</th>\n",
       "      <td>1.0</td>\n",
       "      <td>0.784314</td>\n",
       "      <td>0.385252</td>\n",
       "      <td>3.0</td>\n",
       "      <td>0.498947</td>\n",
       "      <td>153.0</td>\n",
       "    </tr>\n",
       "    <tr>\n",
       "      <th>1344</th>\n",
       "      <td>0.0</td>\n",
       "      <td>0.137255</td>\n",
       "      <td>0.153322</td>\n",
       "      <td>1.0</td>\n",
       "      <td>0.652632</td>\n",
       "      <td>100.0</td>\n",
       "    </tr>\n",
       "    <tr>\n",
       "      <th>7293</th>\n",
       "      <td>1.0</td>\n",
       "      <td>0.705882</td>\n",
       "      <td>0.378194</td>\n",
       "      <td>2.0</td>\n",
       "      <td>0.387368</td>\n",
       "      <td>204.0</td>\n",
       "    </tr>\n",
       "    <tr>\n",
       "      <th>1289</th>\n",
       "      <td>1.0</td>\n",
       "      <td>0.549020</td>\n",
       "      <td>0.292772</td>\n",
       "      <td>1.0</td>\n",
       "      <td>0.764211</td>\n",
       "      <td>184.0</td>\n",
       "    </tr>\n",
       "  </tbody>\n",
       "</table>\n",
       "<p>7292 rows × 6 columns</p>\n",
       "</div>"
      ],
      "text/plain": [
       "      sex       age       bmi smoking  lden_org  bp_syst\n",
       "2153  1.0  1.000000  0.218301     2.0  0.633684    151.0\n",
       "5070  0.0  0.294118  0.233633     2.0  0.818947    128.0\n",
       "4965  1.0  0.647059  0.272086     2.0  0.534737    162.0\n",
       "590   1.0  0.176471  0.240691     2.0  0.610526    131.0\n",
       "1459  0.0  0.921569  0.297639     2.0  0.547368    137.0\n",
       "...   ...       ...       ...     ...       ...      ...\n",
       "4829  0.0  0.568627  0.202969     1.0  0.522105    145.0\n",
       "7291  1.0  0.784314  0.385252     3.0  0.498947    153.0\n",
       "1344  0.0  0.137255  0.153322     1.0  0.652632    100.0\n",
       "7293  1.0  0.705882  0.378194     2.0  0.387368    204.0\n",
       "1289  1.0  0.549020  0.292772     1.0  0.764211    184.0\n",
       "\n",
       "[7292 rows x 6 columns]"
      ]
     },
     "execution_count": 17,
     "metadata": {},
     "output_type": "execute_result"
    }
   ],
   "source": [
    "X_train"
   ]
  },
  {
   "cell_type": "code",
   "execution_count": 24,
   "metadata": {},
   "outputs": [],
   "source": [
    "# define distribution and the formula for the distibutional parameter\n",
    "distribution  = 'Poisson'\n",
    "formulars_only_linear = {'rate': '~1+sex+smoking+age+bmi+lden_org'}\n",
    "formulars_with_spline = {'rate': '~1+sex+smoking+spline(age, bs=\"bs\",df=9)+spline(bmi, bs=\"bs\",df=9)+spline(lden_org, bs=\"bs\",df=9)'}\n",
    "formulas_with_nn = {'rate': '~1+sex+smoking+spline(age, bs=\"bs\",df=9)+spline(bmi, bs=\"bs\",df=9)+spline(lden_org, bs=\"bs\",df=9)+d1(age,bmi,lden_org)'}\n",
    "\n",
    "# define the deep neural networks' architectures and output shapes used in the above formula\n",
    "deep_models_dict = {\n",
    "'d1': {\n",
    "    'model': nn.Sequential(nn.Linear(3,20),nn.BatchNorm1d(20),nn.ReLU(), \n",
    "                           nn.Linear(20,10),nn.BatchNorm1d(10),nn.ReLU(), \n",
    "                           nn.Linear(10,5),nn.BatchNorm1d(5),nn.ReLU(), \n",
    "                           nn.Linear(5,10),nn.BatchNorm1d(10),nn.ReLU(), \n",
    "                           nn.Linear(10,20),nn.BatchNorm1d(20),nn.ReLU(), \n",
    "                           nn.Linear(20,8)),\n",
    "    'output_shape': 8},\n",
    "}\n",
    "\n",
    "# define your training hyperparameters\n",
    "train_parameters = {\n",
    "    'batch_size': 1000,\n",
    "    'epochs': 10000,\n",
    "    'degrees_of_freedom': {'rate':6},\n",
    "    'optimizer' : optim.Adam,\n",
    "    'val_split': 0.1,\n",
    "    'early_stop_epochs': 500,\n",
    "    'early_stop_epsilon': 0.01\n",
    "    }\n",
    "\n",
    "# define output directory\n",
    "output_dir = './outputs'"
   ]
  },
  {
   "cell_type": "code",
   "execution_count": 25,
   "metadata": {},
   "outputs": [
    {
     "name": "stdout",
     "output_type": "stream",
     "text": [
      "Using device:  cpu\n"
     ]
    }
   ],
   "source": [
    "# train sddr model with formulars_only_linear\n",
    "sddr = Sddr(output_dir=output_dir,\n",
    "            distribution=distribution,\n",
    "            formulas=formulars_only_linear,\n",
    "            deep_models_dict=deep_models_dict,\n",
    "            train_parameters=train_parameters,\n",
    "            )"
   ]
  },
  {
   "cell_type": "code",
   "execution_count": 26,
   "metadata": {},
   "outputs": [
    {
     "name": "stdout",
     "output_type": "stream",
     "text": [
      "Beginning training ...\n",
      "Train Epoch: 0 \t Training Loss: 556.201826\n",
      "Train Epoch: 0 \t Validation Loss: 548.876953\n",
      "Train Epoch: 1000 \t Training Loss: 8.555078\n",
      "Train Epoch: 1000 \t Validation Loss: 8.066393\n",
      "Train Epoch: 2000 \t Training Loss: 4.386784\n",
      "Train Epoch: 2000 \t Validation Loss: 4.408294\n",
      "Validation loss has not improved for the last 500 epochs! To avoid overfitting we are going to stop training now\n"
     ]
    },
    {
     "data": {
      "image/png": "[encoded data removed]",
      "text/plain": [
       "<Figure size 432x288 with 1 Axes>"
      ]
     },
     "metadata": {
      "needs_background": "light"
     },
     "output_type": "display_data"
    }
   ],
   "source": [
    "sddr.train(structured_data=X_train,\n",
    "           target='bp_syst',\n",
    "           plot=True)"
   ]
  },
  {
   "cell_type": "code",
   "execution_count": 27,
   "metadata": {},
   "outputs": [
    {
     "name": "stdout",
     "output_type": "stream",
     "text": [
      "Nothing to plot. No (non-)linear partial effects specified for this parameter. (Deep partial effects are not plotted.)\n"
     ]
    }
   ],
   "source": [
    "distribution_layer, partial_effects_loaded = sddr.predict(X_test, plot=True)"
   ]
  },
  {
   "cell_type": "code",
   "execution_count": 28,
   "metadata": {},
   "outputs": [],
   "source": [
    "y_pred_test = distribution_layer.mean"
   ]
  },
  {
   "cell_type": "code",
   "execution_count": 29,
   "metadata": {},
   "outputs": [
    {
     "name": "stdout",
     "output_type": "stream",
     "text": [
      "Mean squared error (MSE) : 295.41\n",
      "Mean absolute error (MAE) : 13.08\n",
      "R^2: -2.06\n"
     ]
    }
   ],
   "source": [
    "print(f'Mean squared error (MSE) : {mean_squared_error(y_pred_test, X_test[\"bp_syst\"]):.2f}')\n",
    "print(f'Mean absolute error (MAE) : {mean_absolute_error(y_pred_test, X_test[\"bp_syst\"]):.2f}')\n",
    "print(f'R^2: {r2_score(y_pred_test, X_test[\"bp_syst\"]):.2f}')"
   ]
  },
  {
   "cell_type": "code",
   "execution_count": null,
   "metadata": {},
   "outputs": [],
   "source": []
  },
  {
   "cell_type": "code",
   "execution_count": 30,
   "metadata": {},
   "outputs": [
    {
     "name": "stdout",
     "output_type": "stream",
     "text": [
      "Using device:  cpu\n",
      "Beginning training ...\n",
      "Train Epoch: 0 \t Training Loss: 539.117798\n",
      "Train Epoch: 0 \t Validation Loss: 532.497925\n",
      "Train Epoch: 1000 \t Training Loss: 7.100692\n",
      "Train Epoch: 1000 \t Validation Loss: 7.317978\n",
      "Validation loss has not improved for the last 500 epochs! To avoid overfitting we are going to stop training now\n"
     ]
    },
    {
     "data": {
      "image/png": "[encoded data removed]",
      "text/plain": [
       "<Figure size 432x288 with 1 Axes>"
      ]
     },
     "metadata": {
      "needs_background": "light"
     },
     "output_type": "display_data"
    }
   ],
   "source": [
    "# train sddr model with formulars_with_spline\n",
    "sddr = Sddr(output_dir=output_dir,\n",
    "            distribution=distribution,\n",
    "            formulas=formulars_with_spline,\n",
    "            deep_models_dict=deep_models_dict,\n",
    "            train_parameters=train_parameters,\n",
    "            )\n",
    "sddr.train(structured_data=X_train,\n",
    "           target='bp_syst',\n",
    "           plot=True)"
   ]
  },
  {
   "cell_type": "code",
   "execution_count": 31,
   "metadata": {},
   "outputs": [
    {
     "data": {
      "image/png": "[encoded data removed]",
      "text/plain": [
       "<Figure size 432x288 with 1 Axes>"
      ]
     },
     "metadata": {
      "needs_background": "light"
     },
     "output_type": "display_data"
    },
    {
     "data": {
      "image/png": "[encoded data removed]",
      "text/plain": [
       "<Figure size 432x288 with 1 Axes>"
      ]
     },
     "metadata": {
      "needs_background": "light"
     },
     "output_type": "display_data"
    },
    {
     "data": {
      "image/png": "[encoded data removed]",
      "text/plain": [
       "<Figure size 432x288 with 1 Axes>"
      ]
     },
     "metadata": {
      "needs_background": "light"
     },
     "output_type": "display_data"
    },
    {
     "name": "stdout",
     "output_type": "stream",
     "text": [
      "Mean squared error (MSE) : 294.30\n",
      "Mean absolute error (MAE) : 13.10\n",
      "R^2: -1.92\n"
     ]
    }
   ],
   "source": [
    "distribution_layer, partial_effects_loaded = sddr.predict(X_test, plot=True)\n",
    "y_pred_test = distribution_layer.mean\n",
    "print(f'Mean squared error (MSE) : {mean_squared_error(y_pred_test, X_test[\"bp_syst\"]):.2f}')\n",
    "print(f'Mean absolute error (MAE) : {mean_absolute_error(y_pred_test, X_test[\"bp_syst\"]):.2f}')\n",
    "print(f'R^2: {r2_score(y_pred_test, X_test[\"bp_syst\"]):.2f}')"
   ]
  },
  {
   "cell_type": "code",
   "execution_count": null,
   "metadata": {},
   "outputs": [],
   "source": []
  },
  {
   "cell_type": "code",
   "execution_count": 33,
   "metadata": {},
   "outputs": [
    {
     "name": "stdout",
     "output_type": "stream",
     "text": [
      "Using device:  cpu\n",
      "Beginning training ...\n",
      "Train Epoch: 0 \t Training Loss: 553.566528\n",
      "Train Epoch: 0 \t Validation Loss: 542.189514\n",
      "Train Epoch: 1000 \t Training Loss: 7.616700\n",
      "Train Epoch: 1000 \t Validation Loss: 8.320287\n",
      "Train Epoch: 2000 \t Training Loss: 4.277298\n",
      "Train Epoch: 2000 \t Validation Loss: 4.429543\n",
      "Validation loss has not improved for the last 500 epochs! To avoid overfitting we are going to stop training now\n"
     ]
    },
    {
     "data": {
      "image/png": "[encoded data removed]",
      "text/plain": [
       "<Figure size 432x288 with 1 Axes>"
      ]
     },
     "metadata": {
      "needs_background": "light"
     },
     "output_type": "display_data"
    }
   ],
   "source": [
    "# train sddr model with formulas_with_nn\n",
    "sddr = Sddr(output_dir=output_dir,\n",
    "            distribution=distribution,\n",
    "            formulas=formulas_with_nn,\n",
    "            deep_models_dict=deep_models_dict,\n",
    "            train_parameters=train_parameters,\n",
    "            )\n",
    "sddr.train(structured_data=X_train,\n",
    "           target='bp_syst',\n",
    "           plot=True)"
   ]
  },
  {
   "cell_type": "code",
   "execution_count": 34,
   "metadata": {},
   "outputs": [
    {
     "data": {
      "image/png": "[encoded data removed]",
      "text/plain": [
       "<Figure size 432x288 with 1 Axes>"
      ]
     },
     "metadata": {
      "needs_background": "light"
     },
     "output_type": "display_data"
    },
    {
     "data": {
      "image/png": "[encoded data removed]",
      "text/plain": [
       "<Figure size 432x288 with 1 Axes>"
      ]
     },
     "metadata": {
      "needs_background": "light"
     },
     "output_type": "display_data"
    },
    {
     "data": {
      "image/png": "[encoded data removed]",
      "text/plain": [
       "<Figure size 432x288 with 1 Axes>"
      ]
     },
     "metadata": {
      "needs_background": "light"
     },
     "output_type": "display_data"
    },
    {
     "name": "stdout",
     "output_type": "stream",
     "text": [
      "Mean squared error (MSE) : 316.81\n",
      "Mean absolute error (MAE) : 13.72\n",
      "R^2: -1.42\n"
     ]
    }
   ],
   "source": [
    "distribution_layer, partial_effects_loaded = sddr.predict(X_test, plot=True)\n",
    "y_pred_test = distribution_layer.mean\n",
    "print(f'Mean squared error (MSE) : {mean_squared_error(y_pred_test, X_test[\"bp_syst\"]):.2f}')\n",
    "print(f'Mean absolute error (MAE) : {mean_absolute_error(y_pred_test, X_test[\"bp_syst\"]):.2f}')\n",
    "print(f'R^2: {r2_score(y_pred_test, X_test[\"bp_syst\"]):.2f}')"
   ]
  }
 ],
 "metadata": {
  "kernelspec": {
   "display_name": "Python 3",
   "language": "python",
   "name": "python3"
  },
  "language_info": {
   "codemirror_mode": {
    "name": "ipython",
    "version": 3
   },
   "file_extension": ".py",
   "mimetype": "text/x-python",
   "name": "python",
   "nbconvert_exporter": "python",
   "pygments_lexer": "ipython3",
   "version": "3.8.5"
  }
 },
 "nbformat": 4,
 "nbformat_minor": 4
}
