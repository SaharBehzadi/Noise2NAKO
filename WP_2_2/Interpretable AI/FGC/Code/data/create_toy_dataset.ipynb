{
 "cells": [
  {
   "cell_type": "code",
   "execution_count": 3,
   "metadata": {},
   "outputs": [],
   "source": [
    "import joblib\n",
    "import pandas as pd\n",
    "\n",
    "from sklearn.datasets import load_breast_cancer, load_iris, load_boston\n",
    "from sklearn.model_selection import train_test_split\n",
    "from sklearn.ensemble import RandomForestClassifier, RandomForestRegressor\n",
    "from sklearn.model_selection import GridSearchCV"
   ]
  },
  {
   "cell_type": "markdown",
   "metadata": {},
   "source": [
    "# Process Dataset Breast Cancer"
   ]
  },
  {
   "cell_type": "code",
   "execution_count": 30,
   "metadata": {},
   "outputs": [],
   "source": [
    "data_breast_cancer = load_breast_cancer(as_frame=True)\n",
    "data_breast_cancer = data_breast_cancer.frame\n",
    "\n",
    "data_breast_cancer.to_csv('data_breast_cancer.csv', index=False)"
   ]
  },
  {
   "cell_type": "code",
   "execution_count": 21,
   "metadata": {},
   "outputs": [],
   "source": [
    "X_breast_cancer = data_breast_cancer.loc[:, data_breast_cancer.columns != 'target']\n",
    "y_breast_cancer = data_breast_cancer.target"
   ]
  },
  {
   "cell_type": "code",
   "execution_count": 35,
   "metadata": {},
   "outputs": [
    {
     "name": "stdout",
     "output_type": "stream",
     "text": [
      "Parameters of best prediction model:\n",
      "{'bootstrap': True, 'max_depth': 5, 'max_samples': 0.9, 'oob_score': True}\n",
      "OOB accuracy of prediction model:\n",
      "0.9595782073813708\n"
     ]
    }
   ],
   "source": [
    "grid = {'max_depth':[2,5], 'bootstrap': [True], 'oob_score': [True], 'max_samples': [0.8, 0.9]}\n",
    "classifier = RandomForestClassifier(oob_score=True, random_state=42)\n",
    "grid_classifier = GridSearchCV(classifier, grid, cv=5)\n",
    "grid_classifier.fit(X_breast_cancer, y_breast_cancer)\n",
    "rf = grid_classifier.best_estimator_\n",
    "\n",
    "print('Parameters of best prediction model:')\n",
    "print(grid_classifier.best_params_)\n",
    "print('OOB accuracy of prediction model:')\n",
    "print(rf.oob_score_)"
   ]
  },
  {
   "cell_type": "code",
   "execution_count": 36,
   "metadata": {},
   "outputs": [],
   "source": [
    "filename_model = 'random_forest_breat_cancer.joblib'\n",
    "joblib.dump(rf, open(filename_model, 'wb'))"
   ]
  },
  {
   "cell_type": "markdown",
   "metadata": {},
   "source": [
    "# Process Dataset Iris"
   ]
  },
  {
   "cell_type": "code",
   "execution_count": 31,
   "metadata": {},
   "outputs": [],
   "source": [
    "data_iris = load_iris(as_frame=True)\n",
    "data_iris = data_iris.frame\n",
    "\n",
    "data_iris.to_csv('data_iris.csv', index=False)"
   ]
  },
  {
   "cell_type": "code",
   "execution_count": 32,
   "metadata": {},
   "outputs": [],
   "source": [
    "X_iris = data_iris.loc[:, data_iris.columns != 'target']\n",
    "y_iris = data_iris.target"
   ]
  },
  {
   "cell_type": "code",
   "execution_count": 33,
   "metadata": {},
   "outputs": [
    {
     "name": "stdout",
     "output_type": "stream",
     "text": [
      "Parameters of best prediction model:\n",
      "{'bootstrap': True, 'max_depth': 2, 'max_features': 2, 'n_estimators': 500, 'oob_score': True}\n",
      "OOB accuracy of prediction model:\n",
      "0.94\n"
     ]
    }
   ],
   "source": [
    "grid = {'n_estimators': [500],'max_features': [2],'max_depth': [2], 'bootstrap': [True], 'oob_score': [True]}\n",
    "classifier = RandomForestClassifier(oob_score=True, random_state=42)\n",
    "grid_classifier = GridSearchCV(classifier, grid, cv=5)\n",
    "grid_classifier.fit(X_iris, y_iris)\n",
    "rf = grid_classifier.best_estimator_\n",
    "\n",
    "print('Parameters of best prediction model:')\n",
    "print(grid_classifier.best_params_)\n",
    "print('OOB accuracy of prediction model:')\n",
    "print(rf.oob_score_)"
   ]
  },
  {
   "cell_type": "code",
   "execution_count": 34,
   "metadata": {},
   "outputs": [],
   "source": [
    "filename_model = 'random_forest_iris.joblib'\n",
    "joblib.dump(rf, open(filename_model, 'wb'))"
   ]
  },
  {
   "cell_type": "markdown",
   "metadata": {},
   "source": [
    "# Process Dataset Boston"
   ]
  },
  {
   "cell_type": "code",
   "execution_count": 17,
   "metadata": {},
   "outputs": [],
   "source": [
    "data = load_boston()\n",
    "\n",
    "data_boston = pd.DataFrame(columns=data['feature_names'], index=range(data['data'].shape[0]))\n",
    "data_boston.loc[:,:] = data['data']\n",
    "data_boston['target'] = data['target']\n",
    "\n",
    "data_boston.to_csv('data_boston.csv', index=False)"
   ]
  },
  {
   "cell_type": "code",
   "execution_count": 18,
   "metadata": {},
   "outputs": [],
   "source": [
    "X_boston = data_boston.loc[:, data_boston.columns != 'target']\n",
    "y_boston = data_boston.target"
   ]
  },
  {
   "cell_type": "code",
   "execution_count": 21,
   "metadata": {},
   "outputs": [
    {
     "name": "stdout",
     "output_type": "stream",
     "text": [
      "Parameters of best prediction model:\n",
      "{'bootstrap': True, 'max_depth': 2, 'max_features': 2, 'n_estimators': 500, 'oob_score': True}\n",
      "OOB MSE of prediction model:\n",
      "0.5714019899313769\n"
     ]
    }
   ],
   "source": [
    "grid = {'n_estimators': [500],'max_features': [2],'max_depth': [2], 'bootstrap': [True], 'oob_score': [True]}\n",
    "classifier = RandomForestRegressor(oob_score=True, random_state=42)\n",
    "grid_classifier = GridSearchCV(classifier, grid, cv=5)\n",
    "grid_classifier.fit(X_boston, y_boston)\n",
    "rf = grid_classifier.best_estimator_\n",
    "\n",
    "print('Parameters of best prediction model:')\n",
    "print(grid_classifier.best_params_)\n",
    "print('OOB MSE of prediction model:')\n",
    "print(rf.oob_score_)"
   ]
  },
  {
   "cell_type": "code",
   "execution_count": 22,
   "metadata": {},
   "outputs": [],
   "source": [
    "filename_model = 'random_forest_boston.joblib'\n",
    "joblib.dump(rf, open(filename_model, 'wb'))"
   ]
  },
  {
   "cell_type": "code",
   "execution_count": null,
   "metadata": {},
   "outputs": [],
   "source": []
  }
 ],
 "metadata": {
  "kernelspec": {
   "display_name": "kernel_forest_guided_clustering",
   "language": "python",
   "name": "kernel_forest_guided_clustering"
  },
  "language_info": {
   "codemirror_mode": {
    "name": "ipython",
    "version": 3
   },
   "file_extension": ".py",
   "mimetype": "text/x-python",
   "name": "python",
   "nbconvert_exporter": "python",
   "pygments_lexer": "ipython3",
   "version": "3.8.10"
  }
 },
 "nbformat": 4,
 "nbformat_minor": 4
}
