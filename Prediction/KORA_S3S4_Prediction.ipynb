{
 "cells": [
  {
   "cell_type": "code",
   "execution_count": 95,
   "metadata": {},
   "outputs": [],
   "source": [
    "from sklearn.model_selection import train_test_split\n",
    "import pandas as pd\n",
    "import numpy as np\n",
    "import matplotlib.pyplot as plt\n",
    "from sklearn import linear_model, preprocessing\n",
    "from sklearn.ensemble import RandomForestRegressor\n",
    "from sklearn.metrics import mean_squared_error, mean_absolute_error, r2_score\n",
    "from pygam import GAM, s, f, LinearGAM\n",
    "import warnings\n",
    "warnings.filterwarnings('ignore')"
   ]
  },
  {
   "cell_type": "markdown",
   "metadata": {},
   "source": [
    "### Import Data"
   ]
  },
  {
   "cell_type": "code",
   "execution_count": 96,
   "metadata": {},
   "outputs": [
    {
     "name": "stdout",
     "output_type": "stream",
     "text": [
      "               sex          age          bmi      smoking     lden_org  \\\n",
      "count  9116.000000  9116.000000  9116.000000  9116.000000  9116.000000   \n",
      "mean      0.492979    49.555836    27.115082     2.169263    54.726163   \n",
      "std       0.499978    14.033439     4.594119     0.810235     6.564306   \n",
      "min       0.000000    24.000000    15.840000     1.000000    30.000000   \n",
      "25%       0.000000    37.000000    23.940000     1.000000    50.600000   \n",
      "50%       0.000000    50.000000    26.580000     2.000000    53.900000   \n",
      "75%       1.000000    61.000000    29.630000     3.000000    58.500000   \n",
      "max       1.000000    75.000000    56.930000     3.000000    77.500000   \n",
      "\n",
      "           bp_syst  \n",
      "count  9116.000000  \n",
      "mean    130.545470  \n",
      "std      19.540302  \n",
      "min      77.000000  \n",
      "25%     116.500000  \n",
      "50%     128.250000  \n",
      "75%     142.000000  \n",
      "max     228.000000  \n"
     ]
    }
   ],
   "source": [
    "data_path = '../../Data/KORA_S3_S4/KORA_Noise_CleanData_MiniModel.csv'\n",
    "data = pd.read_csv(data_path)\n",
    "print(data.describe())"
   ]
  },
  {
   "cell_type": "code",
   "execution_count": 97,
   "metadata": {},
   "outputs": [
    {
     "name": "stdout",
     "output_type": "stream",
     "text": [
      "   sex   age    bmi  smoking  lden_org\n",
      "0  0.0  31.0  18.94      2.0      41.0\n",
      "1  1.0  40.0  27.14      2.0      55.2\n",
      "2  1.0  59.0  30.34      3.0      55.2\n",
      "3  0.0  62.0  19.46      1.0      46.8\n",
      "4  0.0  62.0  31.25      2.0      51.2\n",
      "Data description \n",
      "\n",
      "Sex: Female = 0, Male = 1 \n",
      "Smoking: Current = 1, Ex-smoker = 2, Never-smoker =3 \n",
      " \n"
     ]
    }
   ],
   "source": [
    "X = data.drop(['bp_syst'], axis = 1)\n",
    "print(X.head())\n",
    "\n",
    "# Output is the systolic Blood Pressure \n",
    "Y_SBP = data['bp_syst']\n",
    "\n",
    "print('Data description \\n')\n",
    "print('Sex: Female = 0, Male = 1 \\nSmoking: Current = 1, Ex-smoker = 2, Never-smoker =3 \\n ')\n"
   ]
  },
  {
   "cell_type": "markdown",
   "metadata": {},
   "source": [
    "### Train-Test data split"
   ]
  },
  {
   "cell_type": "code",
   "execution_count": 99,
   "metadata": {},
   "outputs": [],
   "source": [
    "# original data\n",
    "X_train, X_test, y_train, y_test = train_test_split(X, Y_SBP, test_size = 0.2, random_state = 10)"
   ]
  },
  {
   "cell_type": "markdown",
   "metadata": {},
   "source": [
    "# Prediction with LR"
   ]
  },
  {
   "cell_type": "code",
   "execution_count": 100,
   "metadata": {},
   "outputs": [
    {
     "name": "stdout",
     "output_type": "stream",
     "text": [
      "Mean squared error (MSE) : 294.79\n",
      "Mean absolute error (MAE) : 13.07\n",
      "R^2: 0.27\n"
     ]
    }
   ],
   "source": [
    "LR = linear_model.LinearRegression().fit(X_train, y_train)\n",
    "y_pred_LR = LR.predict(X_test)\n",
    "print(f'Mean squared error (MSE) : {mean_squared_error(y_test, y_pred_LR):.2f}')\n",
    "print(f'Mean absolute error (MAE) : {mean_absolute_error(y_test, y_pred_LR):.2f}')\n",
    "print(f'R^2: {r2_score(y_test, y_pred_LR):.2f}')"
   ]
  },
  {
   "cell_type": "markdown",
   "metadata": {},
   "source": [
    "# Prediction with GAM"
   ]
  },
  {
   "cell_type": "code",
   "execution_count": 101,
   "metadata": {
    "scrolled": false
   },
   "outputs": [
    {
     "name": "stdout",
     "output_type": "stream",
     "text": [
      "Mean squared error (MSE) : 293.11\n",
      "Mean absolute error (MAE) : 13.02\n",
      "R^2: 0.27\n"
     ]
    }
   ],
   "source": [
    "# Building the model with Pygam\n",
    "\n",
    "gam_pyGam = GAM(f(0) + s(1) + s(2) + f(3) + s(4)).fit(X_train, y_train)\n",
    "#gam_pyGam.summary()\n",
    "y_pred_GAM = gam_pyGam.predict(X_test)\n",
    "print(f'Mean squared error (MSE) : {mean_squared_error(y_test, y_pred_GAM):.2f}')\n",
    "print(f'Mean absolute error (MAE) : {mean_absolute_error(y_test, y_pred_GAM):.2f}')\n",
    "print(f'R^2: {r2_score(y_test, y_pred_GAM):.2f}')"
   ]
  },
  {
   "cell_type": "markdown",
   "metadata": {},
   "source": [
    "# Prediction with Random Forest"
   ]
  },
  {
   "cell_type": "code",
   "execution_count": 102,
   "metadata": {},
   "outputs": [
    {
     "name": "stdout",
     "output_type": "stream",
     "text": [
      "Mean squared error (MSE) : 299.10\n",
      "Mean absolute error (MAE) : 13.20\n",
      "R^2: 0.26\n"
     ]
    }
   ],
   "source": [
    "RF = RandomForestRegressor(n_estimators= 10, max_depth= 10, random_state= 0, max_features='sqrt').fit(X_train, y_train)\n",
    "y_pred_RF = RF.predict(X_test)\n",
    "print(f'Mean squared error (MSE) : {mean_squared_error(y_test, y_pred_RF):.2f}')\n",
    "print(f'Mean absolute error (MAE) : {mean_absolute_error(y_test, y_pred_RF):.2f}')\n",
    "print(f'R^2: {r2_score(y_test, y_pred_RF):.2f}')"
   ]
  }
 ],
 "metadata": {
  "kernelspec": {
   "display_name": "Python 3",
   "language": "python",
   "name": "python3"
  },
  "language_info": {
   "codemirror_mode": {
    "name": "ipython",
    "version": 3
   },
   "file_extension": ".py",
   "mimetype": "text/x-python",
   "name": "python",
   "nbconvert_exporter": "python",
   "pygments_lexer": "ipython3",
   "version": "3.8.5"
  }
 },
 "nbformat": 4,
 "nbformat_minor": 4
}
