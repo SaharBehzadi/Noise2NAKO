{
 "cells": [
  {
   "cell_type": "code",
   "execution_count": 2,
   "metadata": {},
   "outputs": [],
   "source": [
    "import statsmodels.api as sm\n",
    "import numpy as np\n",
    "from statsmodels.gam.api import GLMGam, BSplines\n",
    "from matplotlib import pyplot as plt\n",
    "from sklearn.model_selection import train_test_split\n",
    "import pandas as pd\n",
    "import matplotlib.pyplot as plt\n",
    "from sklearn.preprocessing import scale\n",
    "from sklearn import linear_model\n",
    "from sklearn.ensemble import RandomForestRegressor\n",
    "from sklearn.metrics import mean_squared_error, mean_absolute_error, r2_score\n",
    "from pygam import GAM, s, f, LinearGAM\n",
    "import warnings\n",
    "warnings.filterwarnings('ignore')"
   ]
  },
  {
   "cell_type": "markdown",
   "metadata": {},
   "source": [
    "### Import Data"
   ]
  },
  {
   "cell_type": "code",
   "execution_count": 3,
   "metadata": {},
   "outputs": [],
   "source": [
    "data_path = '../../Data/KORA_S3_S4/KORA_Noise_noMissing_median.csv'\n",
    "KORA_Noise_noMissing = pd.read_csv(data_path)"
   ]
  },
  {
   "cell_type": "code",
   "execution_count": 4,
   "metadata": {},
   "outputs": [
    {
     "name": "stdout",
     "output_type": "stream",
     "text": [
      "Data description \n",
      "\n",
      "Sex: Female = 0, Male = 1 \n",
      "Smoking: Current = 1, Ex-smoker = 2, Never-smoker =3 \n",
      " \n"
     ]
    },
    {
     "data": {
      "text/html": [
       "<div>\n",
       "<style scoped>\n",
       "    .dataframe tbody tr th:only-of-type {\n",
       "        vertical-align: middle;\n",
       "    }\n",
       "\n",
       "    .dataframe tbody tr th {\n",
       "        vertical-align: top;\n",
       "    }\n",
       "\n",
       "    .dataframe thead th {\n",
       "        text-align: right;\n",
       "    }\n",
       "</style>\n",
       "<table border=\"1\" class=\"dataframe\">\n",
       "  <thead>\n",
       "    <tr style=\"text-align: right;\">\n",
       "      <th></th>\n",
       "      <th>sex</th>\n",
       "      <th>age</th>\n",
       "      <th>bmi</th>\n",
       "      <th>smoking</th>\n",
       "      <th>lden_org</th>\n",
       "    </tr>\n",
       "  </thead>\n",
       "  <tbody>\n",
       "    <tr>\n",
       "      <th>count</th>\n",
       "      <td>9116.000000</td>\n",
       "      <td>9116.000000</td>\n",
       "      <td>9116.000000</td>\n",
       "      <td>9116.000000</td>\n",
       "      <td>9116.000000</td>\n",
       "    </tr>\n",
       "    <tr>\n",
       "      <th>mean</th>\n",
       "      <td>0.492979</td>\n",
       "      <td>49.555836</td>\n",
       "      <td>27.115082</td>\n",
       "      <td>2.169263</td>\n",
       "      <td>54.750581</td>\n",
       "    </tr>\n",
       "    <tr>\n",
       "      <th>std</th>\n",
       "      <td>0.499978</td>\n",
       "      <td>14.033439</td>\n",
       "      <td>4.594119</td>\n",
       "      <td>0.810235</td>\n",
       "      <td>6.498166</td>\n",
       "    </tr>\n",
       "    <tr>\n",
       "      <th>min</th>\n",
       "      <td>0.000000</td>\n",
       "      <td>24.000000</td>\n",
       "      <td>15.840000</td>\n",
       "      <td>1.000000</td>\n",
       "      <td>40.000000</td>\n",
       "    </tr>\n",
       "    <tr>\n",
       "      <th>25%</th>\n",
       "      <td>0.000000</td>\n",
       "      <td>37.000000</td>\n",
       "      <td>23.940000</td>\n",
       "      <td>1.000000</td>\n",
       "      <td>50.600000</td>\n",
       "    </tr>\n",
       "    <tr>\n",
       "      <th>50%</th>\n",
       "      <td>0.000000</td>\n",
       "      <td>50.000000</td>\n",
       "      <td>26.580000</td>\n",
       "      <td>2.000000</td>\n",
       "      <td>53.900000</td>\n",
       "    </tr>\n",
       "    <tr>\n",
       "      <th>75%</th>\n",
       "      <td>1.000000</td>\n",
       "      <td>61.000000</td>\n",
       "      <td>29.630000</td>\n",
       "      <td>3.000000</td>\n",
       "      <td>58.500000</td>\n",
       "    </tr>\n",
       "    <tr>\n",
       "      <th>max</th>\n",
       "      <td>1.000000</td>\n",
       "      <td>75.000000</td>\n",
       "      <td>56.930000</td>\n",
       "      <td>3.000000</td>\n",
       "      <td>77.500000</td>\n",
       "    </tr>\n",
       "  </tbody>\n",
       "</table>\n",
       "</div>"
      ],
      "text/plain": [
       "               sex          age          bmi      smoking     lden_org\n",
       "count  9116.000000  9116.000000  9116.000000  9116.000000  9116.000000\n",
       "mean      0.492979    49.555836    27.115082     2.169263    54.750581\n",
       "std       0.499978    14.033439     4.594119     0.810235     6.498166\n",
       "min       0.000000    24.000000    15.840000     1.000000    40.000000\n",
       "25%       0.000000    37.000000    23.940000     1.000000    50.600000\n",
       "50%       0.000000    50.000000    26.580000     2.000000    53.900000\n",
       "75%       1.000000    61.000000    29.630000     3.000000    58.500000\n",
       "max       1.000000    75.000000    56.930000     3.000000    77.500000"
      ]
     },
     "execution_count": 4,
     "metadata": {},
     "output_type": "execute_result"
    }
   ],
   "source": [
    "X_mini = KORA_Noise_noMissing[['sex', 'age', 'bmi', 'smoking', 'lden_org']]\n",
    "\n",
    "# noise cut-off\n",
    "X_mini_test = X_mini['lden_org']\n",
    "X_mini_test[X_mini_test<=40] = 40\n",
    "X_mini['lden_org'] = X_mini_test\n",
    "\n",
    "Y_SBP = KORA_Noise_noMissing['bp_syst']\n",
    "\n",
    "Data_numeric = KORA_Noise_noMissing[['age', 'bmi', 'lden_org', 'bp_syst']]\n",
    "Data_categoric = KORA_Noise_noMissing[['sex', 'smoking']]\n",
    "Data = KORA_Noise_noMissing[['sex', 'age', 'bmi', 'smoking', 'lden_org', 'bp_syst']]\n",
    "print('Data description \\n')\n",
    "print('Sex: Female = 0, Male = 1 \\nSmoking: Current = 1, Ex-smoker = 2, Never-smoker =3 \\n ')\n",
    "X_mini.describe()"
   ]
  },
  {
   "cell_type": "markdown",
   "metadata": {},
   "source": [
    "### Scaling numeric data and mapping categoric data"
   ]
  },
  {
   "cell_type": "code",
   "execution_count": 5,
   "metadata": {},
   "outputs": [
    {
     "name": "stdout",
     "output_type": "stream",
     "text": [
      "sex        object\n",
      "smoking    object\n",
      "dtype: object\n"
     ]
    },
    {
     "data": {
      "text/html": [
       "<div>\n",
       "<style scoped>\n",
       "    .dataframe tbody tr th:only-of-type {\n",
       "        vertical-align: middle;\n",
       "    }\n",
       "\n",
       "    .dataframe tbody tr th {\n",
       "        vertical-align: top;\n",
       "    }\n",
       "\n",
       "    .dataframe thead th {\n",
       "        text-align: right;\n",
       "    }\n",
       "</style>\n",
       "<table border=\"1\" class=\"dataframe\">\n",
       "  <thead>\n",
       "    <tr style=\"text-align: right;\">\n",
       "      <th></th>\n",
       "      <th>sex</th>\n",
       "      <th>smoking</th>\n",
       "    </tr>\n",
       "  </thead>\n",
       "  <tbody>\n",
       "    <tr>\n",
       "      <th>0</th>\n",
       "      <td>female</td>\n",
       "      <td>Ex_smoker</td>\n",
       "    </tr>\n",
       "    <tr>\n",
       "      <th>1</th>\n",
       "      <td>male</td>\n",
       "      <td>Ex_smoker</td>\n",
       "    </tr>\n",
       "    <tr>\n",
       "      <th>2</th>\n",
       "      <td>male</td>\n",
       "      <td>Never_smoker</td>\n",
       "    </tr>\n",
       "    <tr>\n",
       "      <th>3</th>\n",
       "      <td>female</td>\n",
       "      <td>Current</td>\n",
       "    </tr>\n",
       "    <tr>\n",
       "      <th>4</th>\n",
       "      <td>female</td>\n",
       "      <td>Ex_smoker</td>\n",
       "    </tr>\n",
       "  </tbody>\n",
       "</table>\n",
       "</div>"
      ],
      "text/plain": [
       "      sex       smoking\n",
       "0  female     Ex_smoker\n",
       "1    male     Ex_smoker\n",
       "2    male  Never_smoker\n",
       "3  female       Current\n",
       "4  female     Ex_smoker"
      ]
     },
     "execution_count": 5,
     "metadata": {},
     "output_type": "execute_result"
    }
   ],
   "source": [
    "Data_categoric['smoking']= Data_categoric['smoking'].map({1.0:'Current', 2.0:'Ex_smoker', 3.0:'Never_smoker'})\n",
    "Data_categoric['sex']= Data_categoric['sex'].map({0.0:'female', 1.0:'male'})\n",
    "print(Data_categoric.dtypes)\n",
    "Data_categoric.head()"
   ]
  },
  {
   "cell_type": "code",
   "execution_count": 6,
   "metadata": {},
   "outputs": [
    {
     "data": {
      "text/html": [
       "<div>\n",
       "<style scoped>\n",
       "    .dataframe tbody tr th:only-of-type {\n",
       "        vertical-align: middle;\n",
       "    }\n",
       "\n",
       "    .dataframe tbody tr th {\n",
       "        vertical-align: top;\n",
       "    }\n",
       "\n",
       "    .dataframe thead th {\n",
       "        text-align: right;\n",
       "    }\n",
       "</style>\n",
       "<table border=\"1\" class=\"dataframe\">\n",
       "  <thead>\n",
       "    <tr style=\"text-align: right;\">\n",
       "      <th></th>\n",
       "      <th>age</th>\n",
       "      <th>bmi</th>\n",
       "      <th>lden_org</th>\n",
       "      <th>bp_syst</th>\n",
       "    </tr>\n",
       "  </thead>\n",
       "  <tbody>\n",
       "    <tr>\n",
       "      <th>0</th>\n",
       "      <td>-1.322331</td>\n",
       "      <td>-1.779564</td>\n",
       "      <td>-2.083140</td>\n",
       "      <td>-1.256215</td>\n",
       "    </tr>\n",
       "    <tr>\n",
       "      <th>1</th>\n",
       "      <td>-0.680971</td>\n",
       "      <td>0.005424</td>\n",
       "      <td>0.072704</td>\n",
       "      <td>0.637412</td>\n",
       "    </tr>\n",
       "    <tr>\n",
       "      <th>2</th>\n",
       "      <td>0.673013</td>\n",
       "      <td>0.702005</td>\n",
       "      <td>0.072704</td>\n",
       "      <td>1.712172</td>\n",
       "    </tr>\n",
       "    <tr>\n",
       "      <th>3</th>\n",
       "      <td>0.886799</td>\n",
       "      <td>-1.666370</td>\n",
       "      <td>-1.202584</td>\n",
       "      <td>-1.102678</td>\n",
       "    </tr>\n",
       "    <tr>\n",
       "      <th>4</th>\n",
       "      <td>0.886799</td>\n",
       "      <td>0.900095</td>\n",
       "      <td>-0.534576</td>\n",
       "      <td>-0.897961</td>\n",
       "    </tr>\n",
       "  </tbody>\n",
       "</table>\n",
       "</div>"
      ],
      "text/plain": [
       "        age       bmi  lden_org   bp_syst\n",
       "0 -1.322331 -1.779564 -2.083140 -1.256215\n",
       "1 -0.680971  0.005424  0.072704  0.637412\n",
       "2  0.673013  0.702005  0.072704  1.712172\n",
       "3  0.886799 -1.666370 -1.202584 -1.102678\n",
       "4  0.886799  0.900095 -0.534576 -0.897961"
      ]
     },
     "execution_count": 6,
     "metadata": {},
     "output_type": "execute_result"
    }
   ],
   "source": [
    "Data_numeric_scaled = pd.DataFrame(scale(Data_numeric), index=Data_numeric.index,\n",
    "                           columns=Data_numeric.columns)\n",
    "# Data_numeric.head()\n",
    "Data_numeric_scaled.head()"
   ]
  },
  {
   "cell_type": "code",
   "execution_count": 7,
   "metadata": {},
   "outputs": [
    {
     "name": "stdout",
     "output_type": "stream",
     "text": [
      "    age    bmi  lden_org  bp_syst     sex       smoking\n",
      "0  31.0  18.94      41.0    106.0  female     Ex_smoker\n",
      "1  40.0  27.14      55.2    143.0    male     Ex_smoker\n",
      "2  59.0  30.34      55.2    164.0    male  Never_smoker\n",
      "3  62.0  19.46      46.8    109.0  female       Current\n",
      "4  62.0  31.25      51.2    113.0  female     Ex_smoker\n",
      "        age       bmi  lden_org   bp_syst     sex       smoking\n",
      "0 -1.322331 -1.779564 -2.083140 -1.256215  female     Ex_smoker\n",
      "1 -0.680971  0.005424  0.072704  0.637412    male     Ex_smoker\n",
      "2  0.673013  0.702005  0.072704  1.712172    male  Never_smoker\n",
      "3  0.886799 -1.666370 -1.202584 -1.102678  female       Current\n",
      "4  0.886799  0.900095 -0.534576 -0.897961  female     Ex_smoker\n"
     ]
    }
   ],
   "source": [
    "Data = pd.concat([Data_numeric, Data_categoric], axis= 1)\n",
    "Data_scaled = pd.concat([Data_numeric_scaled, Data_categoric], axis= 1)\n",
    "print(Data.head())\n",
    "print(Data_scaled.head())"
   ]
  },
  {
   "cell_type": "code",
   "execution_count": 8,
   "metadata": {},
   "outputs": [
    {
     "name": "stdout",
     "output_type": "stream",
     "text": [
      "bp_syst ~ age + bmi + lden_org + sex + smoking\n"
     ]
    }
   ],
   "source": [
    "# make the formular\n",
    "variables = Data.columns.drop('bp_syst')\n",
    "formula = 'bp_syst ~ ' + ' + '.join(variables)\n",
    "print(formula)"
   ]
  },
  {
   "cell_type": "markdown",
   "metadata": {},
   "source": [
    "### Train-Test data split"
   ]
  },
  {
   "cell_type": "code",
   "execution_count": 9,
   "metadata": {},
   "outputs": [],
   "source": [
    "# original data\n",
    "X_train, X_test, y_train, y_test = train_test_split(X_mini, Y_SBP, test_size = 0.2, random_state = 10)"
   ]
  },
  {
   "cell_type": "markdown",
   "metadata": {},
   "source": [
    "# Prediction with LR"
   ]
  },
  {
   "cell_type": "code",
   "execution_count": 10,
   "metadata": {},
   "outputs": [
    {
     "name": "stdout",
     "output_type": "stream",
     "text": [
      "Mean squared error (MSE) : 294.79\n",
      "Mean absolute error (MAE) : 13.07\n",
      "R^2: 0.27\n"
     ]
    }
   ],
   "source": [
    "LR = linear_model.LinearRegression().fit(X_train, y_train)\n",
    "y_pred_LR = LR.predict(X_test)\n",
    "print('Mean squared error (MSE) : %.2f' % mean_squared_error(y_test, y_pred_LR))\n",
    "print('Mean absolute error (MAE) : %.2f' % mean_absolute_error(y_test, y_pred_LR))\n",
    "print('R^2: %.2f' % r2_score(y_test, y_pred_LR))"
   ]
  },
  {
   "cell_type": "markdown",
   "metadata": {},
   "source": [
    "# Prediction with GAM"
   ]
  },
  {
   "cell_type": "code",
   "execution_count": 11,
   "metadata": {
    "scrolled": false
   },
   "outputs": [
    {
     "name": "stdout",
     "output_type": "stream",
     "text": [
      "Mean squared error (MSE) : 293.26\n",
      "Mean absolute error (MAE) : 13.03\n",
      "R^2: 0.27\n"
     ]
    }
   ],
   "source": [
    "# Building the model with Pygam\n",
    "\n",
    "gam_pyGam = GAM(f(0) + s(1) + s(2) + f(3) + s(4)).fit(X_train, y_train)\n",
    "#gam_pyGam.summary()\n",
    "y_pred_GAM = gam_pyGam.predict(X_test)\n",
    "print('Mean squared error (MSE) : %.2f' % mean_squared_error(y_test, y_pred_GAM))\n",
    "print('Mean absolute error (MAE) : %.2f' % mean_absolute_error(y_test, y_pred_GAM))\n",
    "print('R^2: %.2f' % r2_score(y_test, y_pred_GAM))"
   ]
  },
  {
   "cell_type": "markdown",
   "metadata": {},
   "source": [
    "# Prediction with Random Forest"
   ]
  },
  {
   "cell_type": "code",
   "execution_count": 12,
   "metadata": {},
   "outputs": [
    {
     "name": "stdout",
     "output_type": "stream",
     "text": [
      "Mean squared error (MSE) : 299.6310967316614\n",
      "Mean absolute error (MAE) : 13.23\n",
      "R^2: 0.26\n"
     ]
    }
   ],
   "source": [
    "RF = RandomForestRegressor(n_estimators= 10, max_depth= 10, random_state= 0, max_features='sqrt').fit(X_train, y_train)\n",
    "y_pred_RF = RF.predict(X_test)\n",
    "MSE = mean_squared_error(y_test, y_pred_RF)\n",
    "print(f'Mean squared error (MSE) : {MSE}')\n",
    "print('Mean absolute error (MAE) : %.2f' % mean_absolute_error(y_test, y_pred_RF))\n",
    "print('R^2: %.2f' % r2_score(y_test, y_pred_RF))"
   ]
  },
  {
   "cell_type": "code",
   "execution_count": null,
   "metadata": {},
   "outputs": [],
   "source": []
  }
 ],
 "metadata": {
  "kernelspec": {
   "display_name": "Python 3",
   "language": "python",
   "name": "python3"
  },
  "language_info": {
   "codemirror_mode": {
    "name": "ipython",
    "version": 3
   },
   "file_extension": ".py",
   "mimetype": "text/x-python",
   "name": "python",
   "nbconvert_exporter": "python",
   "pygments_lexer": "ipython3",
   "version": "3.8.5"
  }
 },
 "nbformat": 4,
 "nbformat_minor": 4
}
