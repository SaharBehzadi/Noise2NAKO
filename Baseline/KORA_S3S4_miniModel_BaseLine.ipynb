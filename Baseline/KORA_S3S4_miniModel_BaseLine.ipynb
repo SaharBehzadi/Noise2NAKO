{
 "cells": [
  {
   "cell_type": "code",
   "execution_count": 2,
   "metadata": {},
   "outputs": [],
   "source": [
    "# KORA_S3S4 Data Analysis - Minimum Model - Baseline\n",
    "\n",
    "import math \n",
    "import numpy as np\n",
    "import pandas as pd\n",
    "import os\n",
    "from matplotlib import pyplot as plt\n",
    "import sklearn\n",
    "from sklearn import linear_model\n",
    "from sklearn.model_selection import train_test_split\n",
    "from sklearn import impute\n",
    "from IPython.core.debugger import set_trace\n",
    "import statsmodels.api as sts\n",
    "import statsmodels.formula.api as smf\n",
    "\n",
    "%matplotlib inline"
   ]
  },
  {
   "cell_type": "markdown",
   "metadata": {},
   "source": [
    "### \n",
    "## Loading the data and data splitting\n",
    "### "
   ]
  },
  {
   "cell_type": "code",
   "execution_count": 5,
   "metadata": {},
   "outputs": [],
   "source": [
    "\n",
    "KORA_Noise_noMissing = pd.read_csv('C:\\\\Users\\\\sahar.behzadi\\\\Desktop\\\\Noise2Nako\\\\Data\\\\KORA_S3_S4\\\\KORA_Noise_noMissing_median.csv')"
   ]
  },
  {
   "cell_type": "code",
   "execution_count": 7,
   "metadata": {
    "scrolled": false
   },
   "outputs": [
    {
     "name": "stdout",
     "output_type": "stream",
     "text": [
      "Data description \n",
      "\n",
      "Sex: Female = 0, Male = 1 \n",
      "Smoking: Current = 1, Ex-smoker = 2, Never-smoker =3 \n",
      " \n",
      "   sex   age    bmi  smoking  lden_org\n",
      "0  0.0  31.0  18.94      2.0      41.0\n",
      "1  1.0  40.0  27.14      2.0      55.2\n",
      "2  1.0  59.0  30.34      3.0      55.2\n",
      "3  0.0  62.0  19.46      1.0      46.8\n",
      "4  0.0  62.0  31.25      2.0      51.2\n"
     ]
    },
    {
     "data": {
      "text/html": [
       "<div>\n",
       "<style scoped>\n",
       "    .dataframe tbody tr th:only-of-type {\n",
       "        vertical-align: middle;\n",
       "    }\n",
       "\n",
       "    .dataframe tbody tr th {\n",
       "        vertical-align: top;\n",
       "    }\n",
       "\n",
       "    .dataframe thead th {\n",
       "        text-align: right;\n",
       "    }\n",
       "</style>\n",
       "<table border=\"1\" class=\"dataframe\">\n",
       "  <thead>\n",
       "    <tr style=\"text-align: right;\">\n",
       "      <th></th>\n",
       "      <th>sex</th>\n",
       "      <th>age</th>\n",
       "      <th>bmi</th>\n",
       "      <th>smoking</th>\n",
       "      <th>lden_org</th>\n",
       "    </tr>\n",
       "  </thead>\n",
       "  <tbody>\n",
       "    <tr>\n",
       "      <th>count</th>\n",
       "      <td>9116.000000</td>\n",
       "      <td>9116.000000</td>\n",
       "      <td>9116.000000</td>\n",
       "      <td>9116.000000</td>\n",
       "      <td>9116.000000</td>\n",
       "    </tr>\n",
       "    <tr>\n",
       "      <th>mean</th>\n",
       "      <td>0.492979</td>\n",
       "      <td>49.555836</td>\n",
       "      <td>27.115082</td>\n",
       "      <td>2.169263</td>\n",
       "      <td>54.721117</td>\n",
       "    </tr>\n",
       "    <tr>\n",
       "      <th>std</th>\n",
       "      <td>0.499978</td>\n",
       "      <td>14.033439</td>\n",
       "      <td>4.594119</td>\n",
       "      <td>0.810235</td>\n",
       "      <td>6.587108</td>\n",
       "    </tr>\n",
       "    <tr>\n",
       "      <th>min</th>\n",
       "      <td>0.000000</td>\n",
       "      <td>24.000000</td>\n",
       "      <td>15.840000</td>\n",
       "      <td>1.000000</td>\n",
       "      <td>15.600000</td>\n",
       "    </tr>\n",
       "    <tr>\n",
       "      <th>25%</th>\n",
       "      <td>0.000000</td>\n",
       "      <td>37.000000</td>\n",
       "      <td>23.940000</td>\n",
       "      <td>1.000000</td>\n",
       "      <td>50.600000</td>\n",
       "    </tr>\n",
       "    <tr>\n",
       "      <th>50%</th>\n",
       "      <td>0.000000</td>\n",
       "      <td>50.000000</td>\n",
       "      <td>26.580000</td>\n",
       "      <td>2.000000</td>\n",
       "      <td>53.900000</td>\n",
       "    </tr>\n",
       "    <tr>\n",
       "      <th>75%</th>\n",
       "      <td>1.000000</td>\n",
       "      <td>61.000000</td>\n",
       "      <td>29.630000</td>\n",
       "      <td>3.000000</td>\n",
       "      <td>58.500000</td>\n",
       "    </tr>\n",
       "    <tr>\n",
       "      <th>max</th>\n",
       "      <td>1.000000</td>\n",
       "      <td>75.000000</td>\n",
       "      <td>56.930000</td>\n",
       "      <td>3.000000</td>\n",
       "      <td>77.500000</td>\n",
       "    </tr>\n",
       "  </tbody>\n",
       "</table>\n",
       "</div>"
      ],
      "text/plain": [
       "               sex          age          bmi      smoking     lden_org\n",
       "count  9116.000000  9116.000000  9116.000000  9116.000000  9116.000000\n",
       "mean      0.492979    49.555836    27.115082     2.169263    54.721117\n",
       "std       0.499978    14.033439     4.594119     0.810235     6.587108\n",
       "min       0.000000    24.000000    15.840000     1.000000    15.600000\n",
       "25%       0.000000    37.000000    23.940000     1.000000    50.600000\n",
       "50%       0.000000    50.000000    26.580000     2.000000    53.900000\n",
       "75%       1.000000    61.000000    29.630000     3.000000    58.500000\n",
       "max       1.000000    75.000000    56.930000     3.000000    77.500000"
      ]
     },
     "execution_count": 7,
     "metadata": {},
     "output_type": "execute_result"
    }
   ],
   "source": [
    "# Covariates\n",
    "\n",
    "X = KORA_Noise_noMissing.drop(['hyper_p', 'bp_diast', 'bp_syst'], axis = 1)\n",
    "X_mini = KORA_Noise_noMissing[['sex', 'age', 'bmi', 'smoking', 'lden_org']]\n",
    "Data = KORA_Noise_noMissing[['sex', 'age', 'bmi', 'smoking', 'lden_org', 'bp_syst']]\n",
    "print('Data description \\n')\n",
    "print('Sex: Female = 0, Male = 1 \\nSmoking: Current = 1, Ex-smoker = 2, Never-smoker =3 \\n ')\n",
    "\n",
    "print(X_mini.head())\n",
    "X_mini.describe()"
   ]
  },
  {
   "cell_type": "code",
   "execution_count": 4,
   "metadata": {},
   "outputs": [],
   "source": [
    "# Output\n",
    "\n",
    "Y_hyper = KORA_Noise_noMissing['hyper_p'].astype(int)\n",
    "Y_SBP = KORA_Noise_noMissing['bp_syst']\n",
    "Y_DBP = KORA_Noise_noMissing['bp_diast']\n"
   ]
  },
  {
   "cell_type": "code",
   "execution_count": 8,
   "metadata": {},
   "outputs": [
    {
     "name": "stdout",
     "output_type": "stream",
     "text": [
      "                         QuantReg Regression Results                          \n",
      "==============================================================================\n",
      "Dep. Variable:                bp_syst   Pseudo R-squared:               0.1604\n",
      "Model:                       QuantReg   Bandwidth:                       3.564\n",
      "Method:                 Least Squares   Sparsity:                        35.99\n",
      "Date:                Fri, 21 May 2021   No. Observations:                 9116\n",
      "Time:                        17:24:14   Df Residuals:                     9110\n",
      "                                        Df Model:                            5\n",
      "==============================================================================\n",
      "                 coef    std err          t      P>|t|      [0.025      0.975]\n",
      "------------------------------------------------------------------------------\n",
      "Intercept     76.8226      2.006     38.300      0.000      72.891      80.754\n",
      "sex            8.9232      0.387     23.037      0.000       8.164       9.683\n",
      "age            0.4894      0.014     34.122      0.000       0.461       0.517\n",
      "bmi            0.6935      0.043     16.036      0.000       0.609       0.778\n",
      "smoking        0.9606      0.243      3.950      0.000       0.484       1.437\n",
      "lden_org       0.0509      0.029      1.774      0.076      -0.005       0.107\n",
      "==============================================================================\n"
     ]
    }
   ],
   "source": [
    "mod = smf.quantreg('bp_syst ~ sex + age + bmi + smoking + lden_org', Data)\n",
    "res = mod.fit(q=.5)\n",
    "print(res.summary())"
   ]
  },
  {
   "cell_type": "code",
   "execution_count": null,
   "metadata": {},
   "outputs": [],
   "source": []
  }
 ],
 "metadata": {
  "kernelspec": {
   "display_name": "Python 3",
   "language": "python",
   "name": "python3"
  },
  "language_info": {
   "codemirror_mode": {
    "name": "ipython",
    "version": 3
   },
   "file_extension": ".py",
   "mimetype": "text/x-python",
   "name": "python",
   "nbconvert_exporter": "python",
   "pygments_lexer": "ipython3",
   "version": "3.8.5"
  }
 },
 "nbformat": 4,
 "nbformat_minor": 4
}
