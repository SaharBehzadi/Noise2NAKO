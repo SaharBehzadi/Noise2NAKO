{
 "cells": [
  {
   "cell_type": "code",
   "execution_count": 2,
   "metadata": {},
   "outputs": [],
   "source": [
    "import pandas as pd\n",
    "import os\n",
    "import geopandas as gpd\n",
    "from matplotlib import pyplot as plt\n",
    "from mpl_toolkits.axes_grid1 import make_axes_locatable\n",
    "from shapely.geometry import box\n",
    "import numpy as np"
   ]
  },
  {
   "cell_type": "code",
   "execution_count": 3,
   "metadata": {},
   "outputs": [],
   "source": [
    "# Set the working directory\n",
    "os.chdir(\"N:/WG_ENRI/20_projects/Noise2NAKO/04_data/grid_prediction\")"
   ]
  },
  {
   "cell_type": "code",
   "execution_count": 4,
   "metadata": {},
   "outputs": [],
   "source": [
    "dir_grid_shp = \"N:/PROJECTS/ENVGEO_DB/1_GIS_data_orig/2_administrative_units/BKG/INSPIRE_geogitter/DE_Grid_ETRS89-LAEA/data\""
   ]
  },
  {
   "cell_type": "code",
   "execution_count": 5,
   "metadata": {},
   "outputs": [],
   "source": [
    "grid_5km_shp = gpd.read_file(dir_grid_shp + \"/DE_Grid_ETRS89-LAEA_5km.gpkg\")"
   ]
  },
  {
   "cell_type": "code",
   "execution_count": 18,
   "metadata": {},
   "outputs": [],
   "source": [
    "pred_result = pd.read_csv(\"5_results/CVD Mortality Rate 2017 incl Noise_XY/GT/GT.csv\", sep = \",\")"
   ]
  },
  {
   "cell_type": "code",
   "execution_count": 19,
   "metadata": {},
   "outputs": [
    {
     "data": {
      "text/plain": [
       "geopandas.geodataframe.GeoDataFrame"
      ]
     },
     "execution_count": 19,
     "metadata": {},
     "output_type": "execute_result"
    }
   ],
   "source": [
    "merged_data = grid_5km_shp.merge(pred_result, left_on=\"id\", right_on=\"id\")\n",
    "type(merged_data)"
   ]
  },
  {
   "cell_type": "code",
   "execution_count": 20,
   "metadata": {},
   "outputs": [
    {
     "data": {
      "text/html": [
       "<div>\n",
       "<style scoped>\n",
       "    .dataframe tbody tr th:only-of-type {\n",
       "        vertical-align: middle;\n",
       "    }\n",
       "\n",
       "    .dataframe tbody tr th {\n",
       "        vertical-align: top;\n",
       "    }\n",
       "\n",
       "    .dataframe thead th {\n",
       "        text-align: right;\n",
       "    }\n",
       "</style>\n",
       "<table border=\"1\" class=\"dataframe\">\n",
       "  <thead>\n",
       "    <tr style=\"text-align: right;\">\n",
       "      <th></th>\n",
       "      <th>featuretype_name</th>\n",
       "      <th>dataset_name</th>\n",
       "      <th>OBJECTID</th>\n",
       "      <th>id</th>\n",
       "      <th>x_sw</th>\n",
       "      <th>y_sw</th>\n",
       "      <th>x_mp</th>\n",
       "      <th>y_mp</th>\n",
       "      <th>f_staat</th>\n",
       "      <th>f_land</th>\n",
       "      <th>f_wasser</th>\n",
       "      <th>p_staat</th>\n",
       "      <th>p_land</th>\n",
       "      <th>p_wasser</th>\n",
       "      <th>Shape_Length</th>\n",
       "      <th>Shape_Area</th>\n",
       "      <th>geometry</th>\n",
       "      <th>cvd_mortality_17</th>\n",
       "    </tr>\n",
       "  </thead>\n",
       "  <tbody>\n",
       "    <tr>\n",
       "      <th>0</th>\n",
       "      <td>DE_Grid_ETRS89-LAEA_5km</td>\n",
       "      <td>de_grid_laea_5km</td>\n",
       "      <td>3</td>\n",
       "      <td>5kmN2685E4330</td>\n",
       "      <td>4330000.0</td>\n",
       "      <td>2685000.0</td>\n",
       "      <td>4332500.0</td>\n",
       "      <td>2687500.0</td>\n",
       "      <td>1283018.0</td>\n",
       "      <td>1283018.0</td>\n",
       "      <td>0.0</td>\n",
       "      <td>5.132072</td>\n",
       "      <td>5.132072</td>\n",
       "      <td>0.000000</td>\n",
       "      <td>20000.0</td>\n",
       "      <td>25000000.0</td>\n",
       "      <td>POLYGON ((4330000.000 2685000.000, 4330000.000...</td>\n",
       "      <td>4.0</td>\n",
       "    </tr>\n",
       "    <tr>\n",
       "      <th>1</th>\n",
       "      <td>DE_Grid_ETRS89-LAEA_5km</td>\n",
       "      <td>de_grid_laea_5km</td>\n",
       "      <td>5</td>\n",
       "      <td>5kmN2685E4340</td>\n",
       "      <td>4340000.0</td>\n",
       "      <td>2685000.0</td>\n",
       "      <td>4342500.0</td>\n",
       "      <td>2687500.0</td>\n",
       "      <td>17177327.0</td>\n",
       "      <td>17150337.0</td>\n",
       "      <td>26990.0</td>\n",
       "      <td>68.709308</td>\n",
       "      <td>68.601348</td>\n",
       "      <td>0.107960</td>\n",
       "      <td>20000.0</td>\n",
       "      <td>25000000.0</td>\n",
       "      <td>POLYGON ((4340000.000 2685000.000, 4340000.000...</td>\n",
       "      <td>4.0</td>\n",
       "    </tr>\n",
       "    <tr>\n",
       "      <th>2</th>\n",
       "      <td>DE_Grid_ETRS89-LAEA_5km</td>\n",
       "      <td>de_grid_laea_5km</td>\n",
       "      <td>8</td>\n",
       "      <td>5kmN2690E4330</td>\n",
       "      <td>4330000.0</td>\n",
       "      <td>2690000.0</td>\n",
       "      <td>4332500.0</td>\n",
       "      <td>2692500.0</td>\n",
       "      <td>205984.0</td>\n",
       "      <td>205984.0</td>\n",
       "      <td>0.0</td>\n",
       "      <td>0.823936</td>\n",
       "      <td>0.823936</td>\n",
       "      <td>0.000000</td>\n",
       "      <td>20000.0</td>\n",
       "      <td>25000000.0</td>\n",
       "      <td>POLYGON ((4330000.000 2690000.000, 4330000.000...</td>\n",
       "      <td>4.0</td>\n",
       "    </tr>\n",
       "    <tr>\n",
       "      <th>3</th>\n",
       "      <td>DE_Grid_ETRS89-LAEA_5km</td>\n",
       "      <td>de_grid_laea_5km</td>\n",
       "      <td>9</td>\n",
       "      <td>5kmN2690E4335</td>\n",
       "      <td>4335000.0</td>\n",
       "      <td>2690000.0</td>\n",
       "      <td>4337500.0</td>\n",
       "      <td>2692500.0</td>\n",
       "      <td>14107215.0</td>\n",
       "      <td>14087614.0</td>\n",
       "      <td>19601.0</td>\n",
       "      <td>56.428860</td>\n",
       "      <td>56.350456</td>\n",
       "      <td>0.078404</td>\n",
       "      <td>20000.0</td>\n",
       "      <td>25000000.0</td>\n",
       "      <td>POLYGON ((4335000.000 2690000.000, 4335000.000...</td>\n",
       "      <td>4.0</td>\n",
       "    </tr>\n",
       "    <tr>\n",
       "      <th>4</th>\n",
       "      <td>DE_Grid_ETRS89-LAEA_5km</td>\n",
       "      <td>de_grid_laea_5km</td>\n",
       "      <td>10</td>\n",
       "      <td>5kmN2690E4340</td>\n",
       "      <td>4340000.0</td>\n",
       "      <td>2690000.0</td>\n",
       "      <td>4342500.0</td>\n",
       "      <td>2692500.0</td>\n",
       "      <td>25000000.0</td>\n",
       "      <td>24888164.0</td>\n",
       "      <td>111836.0</td>\n",
       "      <td>100.000000</td>\n",
       "      <td>99.552656</td>\n",
       "      <td>0.447344</td>\n",
       "      <td>20000.0</td>\n",
       "      <td>25000000.0</td>\n",
       "      <td>POLYGON ((4340000.000 2690000.000, 4340000.000...</td>\n",
       "      <td>4.0</td>\n",
       "    </tr>\n",
       "  </tbody>\n",
       "</table>\n",
       "</div>"
      ],
      "text/plain": [
       "          featuretype_name      dataset_name  OBJECTID             id  \\\n",
       "0  DE_Grid_ETRS89-LAEA_5km  de_grid_laea_5km         3  5kmN2685E4330   \n",
       "1  DE_Grid_ETRS89-LAEA_5km  de_grid_laea_5km         5  5kmN2685E4340   \n",
       "2  DE_Grid_ETRS89-LAEA_5km  de_grid_laea_5km         8  5kmN2690E4330   \n",
       "3  DE_Grid_ETRS89-LAEA_5km  de_grid_laea_5km         9  5kmN2690E4335   \n",
       "4  DE_Grid_ETRS89-LAEA_5km  de_grid_laea_5km        10  5kmN2690E4340   \n",
       "\n",
       "        x_sw       y_sw       x_mp       y_mp     f_staat      f_land  \\\n",
       "0  4330000.0  2685000.0  4332500.0  2687500.0   1283018.0   1283018.0   \n",
       "1  4340000.0  2685000.0  4342500.0  2687500.0  17177327.0  17150337.0   \n",
       "2  4330000.0  2690000.0  4332500.0  2692500.0    205984.0    205984.0   \n",
       "3  4335000.0  2690000.0  4337500.0  2692500.0  14107215.0  14087614.0   \n",
       "4  4340000.0  2690000.0  4342500.0  2692500.0  25000000.0  24888164.0   \n",
       "\n",
       "   f_wasser     p_staat     p_land  p_wasser  Shape_Length  Shape_Area  \\\n",
       "0       0.0    5.132072   5.132072  0.000000       20000.0  25000000.0   \n",
       "1   26990.0   68.709308  68.601348  0.107960       20000.0  25000000.0   \n",
       "2       0.0    0.823936   0.823936  0.000000       20000.0  25000000.0   \n",
       "3   19601.0   56.428860  56.350456  0.078404       20000.0  25000000.0   \n",
       "4  111836.0  100.000000  99.552656  0.447344       20000.0  25000000.0   \n",
       "\n",
       "                                            geometry  cvd_mortality_17  \n",
       "0  POLYGON ((4330000.000 2685000.000, 4330000.000...               4.0  \n",
       "1  POLYGON ((4340000.000 2685000.000, 4340000.000...               4.0  \n",
       "2  POLYGON ((4330000.000 2690000.000, 4330000.000...               4.0  \n",
       "3  POLYGON ((4335000.000 2690000.000, 4335000.000...               4.0  \n",
       "4  POLYGON ((4340000.000 2690000.000, 4340000.000...               4.0  "
      ]
     },
     "execution_count": 20,
     "metadata": {},
     "output_type": "execute_result"
    }
   ],
   "source": [
    "merged_data.head()"
   ]
  },
  {
   "cell_type": "code",
   "execution_count": 21,
   "metadata": {},
   "outputs": [
    {
     "name": "stderr",
     "output_type": "stream",
     "text": [
      "<ipython-input-21-a74561835acb>:2: UserWarning: Column names longer than 10 characters will be truncated when saved to ESRI Shapefile.\n",
      "  merged_data.to_file(driver = 'ESRI Shapefile', filename= \"5_results/CVD Mortality Rate 2017 incl Noise_XY/GT/GT_shape.shp\")\n"
     ]
    }
   ],
   "source": [
    "# save the GeoDataFrame\n",
    "merged_data.to_file(driver = 'ESRI Shapefile', filename= \"5_results/CVD Mortality Rate 2017 incl Noise_XY/GT/GT_shape.shp\")"
   ]
  },
  {
   "cell_type": "code",
   "execution_count": 25,
   "metadata": {},
   "outputs": [],
   "source": [
    "test_shp = gpd.read_file('5_results/CVD Mortality Rate 2017 incl Noise_XY/GT/GT_shape.shp')"
   ]
  },
  {
   "cell_type": "code",
   "execution_count": 29,
   "metadata": {},
   "outputs": [
    {
     "data": {
      "text/plain": [
       "Index(['featuretyp', 'dataset_na', 'OBJECTID', 'id', 'x_sw', 'y_sw', 'x_mp',\n",
       "       'y_mp', 'f_staat', 'f_land', 'f_wasser', 'p_staat', 'p_land',\n",
       "       'p_wasser', 'Shape_Leng', 'Shape_Area', 'cvd_mortal', 'geometry'],\n",
       "      dtype='object')"
      ]
     },
     "execution_count": 29,
     "metadata": {},
     "output_type": "execute_result"
    }
   ],
   "source": [
    "test_shp.columns"
   ]
  },
  {
   "cell_type": "code",
   "execution_count": 24,
   "metadata": {},
   "outputs": [
    {
     "data": {
      "image/png": "[encoded data removed]",
      "text/plain": [
       "<Figure size 720x1080 with 1 Axes>"
      ]
     },
     "metadata": {
      "needs_background": "light"
     },
     "output_type": "display_data"
    }
   ],
   "source": [
    "plt_title = 'Ground Truth'\n",
    "fig, ax = plt.subplots(1, 1, figsize=(10,15),  sharex='all', sharey='all')\n",
    "# divider = make_axes_locatable(ax[0,0])\n",
    "# cax = divider.append_axes(\"right\", size=\"5%\", pad=0.1)\n",
    "test_shp.plot(column='cvd_mortal', ax = ax, legend = True, legend_kwds={'loc': 'lower right'}, cmap = plt.cm.get_cmap('magma_r'), scheme='user_defined', classification_kwds={'bins':[3, 4, 5, 6, 8, 10]})\n",
    "ax.set_axis_off()\n",
    "ax.set_title(plt_title, fontsize=16)\n",
    "plt.savefig('5_results/CVD Mortality Rate 2017 incl Noise_XY/GT/GT_plot')\n",
    "plt.show()\n"
   ]
  },
  {
   "cell_type": "code",
   "execution_count": null,
   "metadata": {},
   "outputs": [],
   "source": []
  }
 ],
 "metadata": {
  "kernelspec": {
   "display_name": "Python 3",
   "language": "python",
   "name": "python3"
  },
  "language_info": {
   "codemirror_mode": {
    "name": "ipython",
    "version": 3
   },
   "file_extension": ".py",
   "mimetype": "text/x-python",
   "name": "python",
   "nbconvert_exporter": "python",
   "pygments_lexer": "ipython3",
   "version": "3.8.5"
  }
 },
 "nbformat": 4,
 "nbformat_minor": 4
}
