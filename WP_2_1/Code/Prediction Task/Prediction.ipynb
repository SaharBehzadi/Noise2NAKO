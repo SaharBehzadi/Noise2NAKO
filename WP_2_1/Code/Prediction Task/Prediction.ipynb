{
 "cells": [
  {
   "cell_type": "code",
   "execution_count": 5,
   "metadata": {},
   "outputs": [],
   "source": [
    "'''Predicting Mortality across Germany wih different AI Methods\n",
    "'''\n",
    "\n",
    "import numpy as np\n",
    "import pandas as pd\n",
    "import os\n",
    "from matplotlib import pyplot as plt\n",
    "import sklearn\n",
    "from sklearn.model_selection import train_test_split\n",
    "from sklearn import impute\n",
    "from sklearn import linear_model\n",
    "from sklearn.metrics import mean_squared_error, mean_absolute_error, r2_score\n",
    "from sklearn.ensemble import RandomForestRegressor\n",
    "import dbf\n",
    "from pygam import GAM, s, f, LinearGAM\n",
    "import xgboost\n",
    "import warnings\n",
    "warnings.filterwarnings('ignore')\n",
    "%matplotlib inline"
   ]
  },
  {
   "cell_type": "markdown",
   "metadata": {},
   "source": [
    "### Load Data"
   ]
  },
  {
   "cell_type": "code",
   "execution_count": 6,
   "metadata": {},
   "outputs": [],
   "source": [
    "# Set the working directory\n",
    "os.chdir(\"N:/WG_ENRI/20_projects/Noise2NAKO/04_data/grid_prediction/3_output\")"
   ]
  },
  {
   "cell_type": "code",
   "execution_count": 70,
   "metadata": {
    "scrolled": true
   },
   "outputs": [],
   "source": [
    "# Read training and test data\n",
    "data_training = pd.read_csv('Prediction/Training_data.csv', sep=',')\n",
    "data_test = pd.read_csv('Prediction/Test_data.csv', sep=',')"
   ]
  },
  {
   "cell_type": "code",
   "execution_count": 71,
   "metadata": {},
   "outputs": [],
   "source": [
    "# distinguish between response and input variables and make training and test data \n",
    "# remove unnecessary features 'id', 'x_sw', 'y_sw','x_mp', 'y_mp'\n",
    "\n",
    "output_variable = 'ks_Mortality_17'\n",
    "output_path = '../5_results/Total Mortality Rate 2017 incl XY/'\n",
    "coord = True\n",
    "\n",
    "y = data_training[output_variable]\n",
    "if coord:\n",
    "    X = data_training.drop([output_variable, 'ks_Mortality_17', 'id'], axis = 1)   \n",
    "else:\n",
    "    X = data_training.drop([output_variable, 'ks_Mortality_17', 'id', 'x_sw', 'y_sw','x_mp', 'y_mp'], axis = 1)\n",
    "    \n",
    "pred_y = data_test[output_variable]\n",
    "if coord:\n",
    "    pred_X = data_test.drop([output_variable, 'ks_Mortality_17', 'id'], axis = 1)\n",
    "else:\n",
    "    pred_X = data_test.drop([output_variable, 'ks_Mortality_17', 'id', 'x_sw', 'y_sw','x_mp', 'y_mp'], axis = 1)\n",
    "\n",
    "X_train, X_test, y_train, y_test = train_test_split(X, y, test_size = 0.2, random_state = 10)"
   ]
  },
  {
   "cell_type": "code",
   "execution_count": 72,
   "metadata": {},
   "outputs": [
    {
     "name": "stdout",
     "output_type": "stream",
     "text": [
      "<class 'pandas.core.frame.DataFrame'>\n",
      "Int64Index: 685 entries, 152 to 265\n",
      "Data columns (total 32 columns):\n",
      " #   Column         Non-Null Count  Dtype  \n",
      "---  ------         --------------  -----  \n",
      " 0   x_sw           685 non-null    int64  \n",
      " 1   y_sw           685 non-null    float64\n",
      " 2   x_mp           685 non-null    int64  \n",
      " 3   y_mp           685 non-null    int64  \n",
      " 4   ks_foreign_17  685 non-null    float64\n",
      " 5   ks_inc_hh_17   685 non-null    float64\n",
      " 6   ks_inc_17      685 non-null    float64\n",
      " 7   ks_nondipl_17  685 non-null    float64\n",
      " 8   ks_abi_17      685 non-null    float64\n",
      " 9   ks_arbl_17     685 non-null    float64\n",
      " 10  ks_GISD_14     685 non-null    float64\n",
      " 11  geb_abs        685 non-null    float64\n",
      " 12  hh_abs         685 non-null    float64\n",
      " 13  pers_abs       685 non-null    float64\n",
      " 14  imp_pct05_15   685 non-null    int64  \n",
      " 15  imp_pct25_15   685 non-null    int64  \n",
      " 16  imp_pct50_15   685 non-null    float64\n",
      " 17  imp_mean_15    685 non-null    float64\n",
      " 18  imp_pct75_15   685 non-null    float64\n",
      " 19  imp_pct95_15   685 non-null    float64\n",
      " 20  imp_pct05_18   685 non-null    float64\n",
      " 21  imp_pct25_18   685 non-null    float64\n",
      " 22  imp_pct50_18   685 non-null    float64\n",
      " 23  imp_mean_18    685 non-null    float64\n",
      " 24  imp_pct75_18   685 non-null    float64\n",
      " 25  imp_pct95_18   685 non-null    float64\n",
      " 26  grn_pct05      685 non-null    float64\n",
      " 27  grn_pct25      685 non-null    float64\n",
      " 28  grn_pct50      685 non-null    float64\n",
      " 29  grn_mean       685 non-null    float64\n",
      " 30  grn_pct75      685 non-null    float64\n",
      " 31  grn_pct95      685 non-null    float64\n",
      "dtypes: float64(27), int64(5)\n",
      "memory usage: 176.6 KB\n"
     ]
    }
   ],
   "source": [
    "X_train.info()"
   ]
  },
  {
   "cell_type": "markdown",
   "metadata": {},
   "source": [
    "# Prediction"
   ]
  },
  {
   "cell_type": "code",
   "execution_count": 73,
   "metadata": {},
   "outputs": [],
   "source": [
    "def Prediction(method, X_train, X_test, y_train, y_test, pred_X, pred_y, output_variable):\n",
    "    \n",
    "    '''Prediction Function'''\n",
    "    \n",
    "    if method == 'LR':\n",
    "        model = linear_model.LinearRegression().fit(X_train, y_train)\n",
    "    elif method == 'GAM':\n",
    "        model = GAM(s(0) + s(1) + s(2) + s(3) + s(4) + s(5) + s(6) + s(7) + s(8) + s(9)).fit(X_train, y_train)\n",
    "    elif method == 'RF':\n",
    "        model = RandomForestRegressor(n_estimators= 10, max_depth= 10, random_state= 0, max_features='sqrt').fit(X_train, y_train)\n",
    "    else:\n",
    "        model = xgboost.XGBRegressor().fit(X_train, y_train)\n",
    "    \n",
    "    y_pred_train = model.predict(X_train)\n",
    "    y_pred_test = model.predict(X_test)\n",
    "    y_pred = model.predict(pred_X)\n",
    "\n",
    "    result = {'Method': method, 'MSE_train': mean_squared_error(y_train, y_pred_train),\n",
    "                            'MAE_train': mean_absolute_error(y_train, y_pred_train), 'R_2_train': r2_score(y_train, y_pred_train),\n",
    "                           'MSE_val': mean_squared_error(y_test, y_pred_test), 'MAE_val': mean_absolute_error(y_test, y_pred_test),\n",
    "                           'R_2_val': r2_score(y_test, y_pred_test), 'MSE_pred': mean_squared_error(pred_y, y_pred), 'MAE_pred': mean_absolute_error(pred_y, y_pred),\n",
    "                           'R_2_pred': r2_score(pred_y, y_pred)}\n",
    "    \n",
    "    return result, pd.DataFrame(y_pred, columns = [output_variable])"
   ]
  },
  {
   "cell_type": "markdown",
   "metadata": {},
   "source": [
    "### Prediction with different methods"
   ]
  },
  {
   "cell_type": "code",
   "execution_count": 74,
   "metadata": {
    "scrolled": false
   },
   "outputs": [
    {
     "data": {
      "text/html": [
       "<div>\n",
       "<style scoped>\n",
       "    .dataframe tbody tr th:only-of-type {\n",
       "        vertical-align: middle;\n",
       "    }\n",
       "\n",
       "    .dataframe tbody tr th {\n",
       "        vertical-align: top;\n",
       "    }\n",
       "\n",
       "    .dataframe thead th {\n",
       "        text-align: right;\n",
       "    }\n",
       "</style>\n",
       "<table border=\"1\" class=\"dataframe\">\n",
       "  <thead>\n",
       "    <tr style=\"text-align: right;\">\n",
       "      <th></th>\n",
       "      <th>Method</th>\n",
       "      <th>MSE_train</th>\n",
       "      <th>MAE_train</th>\n",
       "      <th>R_2_train</th>\n",
       "      <th>MSE_val</th>\n",
       "      <th>MAE_val</th>\n",
       "      <th>R_2_val</th>\n",
       "      <th>MSE_pred</th>\n",
       "      <th>MAE_pred</th>\n",
       "      <th>R_2_pred</th>\n",
       "    </tr>\n",
       "  </thead>\n",
       "  <tbody>\n",
       "    <tr>\n",
       "      <th>0</th>\n",
       "      <td>LR</td>\n",
       "      <td>0.301840</td>\n",
       "      <td>0.393108</td>\n",
       "      <td>0.916682</td>\n",
       "      <td>0.280661</td>\n",
       "      <td>0.377529</td>\n",
       "      <td>0.922623</td>\n",
       "      <td>1.380903</td>\n",
       "      <td>0.893056</td>\n",
       "      <td>0.592126</td>\n",
       "    </tr>\n",
       "    <tr>\n",
       "      <th>1</th>\n",
       "      <td>GAM</td>\n",
       "      <td>0.089763</td>\n",
       "      <td>0.185104</td>\n",
       "      <td>0.975222</td>\n",
       "      <td>0.122811</td>\n",
       "      <td>0.220250</td>\n",
       "      <td>0.966141</td>\n",
       "      <td>1.603605</td>\n",
       "      <td>0.933743</td>\n",
       "      <td>0.526347</td>\n",
       "    </tr>\n",
       "    <tr>\n",
       "      <th>2</th>\n",
       "      <td>RF</td>\n",
       "      <td>0.025784</td>\n",
       "      <td>0.087607</td>\n",
       "      <td>0.992883</td>\n",
       "      <td>0.146335</td>\n",
       "      <td>0.210215</td>\n",
       "      <td>0.959656</td>\n",
       "      <td>1.400540</td>\n",
       "      <td>0.896751</td>\n",
       "      <td>0.586326</td>\n",
       "    </tr>\n",
       "    <tr>\n",
       "      <th>3</th>\n",
       "      <td>XGBoost</td>\n",
       "      <td>0.000003</td>\n",
       "      <td>0.001227</td>\n",
       "      <td>0.999999</td>\n",
       "      <td>0.048348</td>\n",
       "      <td>0.109419</td>\n",
       "      <td>0.986671</td>\n",
       "      <td>1.126893</td>\n",
       "      <td>0.818418</td>\n",
       "      <td>0.667153</td>\n",
       "    </tr>\n",
       "  </tbody>\n",
       "</table>\n",
       "</div>"
      ],
      "text/plain": [
       "    Method  MSE_train  MAE_train  R_2_train   MSE_val   MAE_val   R_2_val  \\\n",
       "0       LR   0.301840   0.393108   0.916682  0.280661  0.377529  0.922623   \n",
       "1      GAM   0.089763   0.185104   0.975222  0.122811  0.220250  0.966141   \n",
       "2       RF   0.025784   0.087607   0.992883  0.146335  0.210215  0.959656   \n",
       "3  XGBoost   0.000003   0.001227   0.999999  0.048348  0.109419  0.986671   \n",
       "\n",
       "   MSE_pred  MAE_pred  R_2_pred  \n",
       "0  1.380903  0.893056  0.592126  \n",
       "1  1.603605  0.933743  0.526347  \n",
       "2  1.400540  0.896751  0.586326  \n",
       "3  1.126893  0.818418  0.667153  "
      ]
     },
     "execution_count": 74,
     "metadata": {},
     "output_type": "execute_result"
    }
   ],
   "source": [
    "result= pd.DataFrame(columns=['Method', 'MSE_train', 'MAE_train', 'R_2_train', 'MSE_val', 'MAE_val', 'R_2_val', 'MSE_pred', 'MAE_pred', 'R_2_pred'])\n",
    "\n",
    "# Linear Regression\n",
    "ToAppend, y_pred_LR = Prediction(method='LR', X_train=X_train, X_test=X_test, y_train=y_train, y_test=y_test, pred_X=pred_X, pred_y=pred_y, output_variable = output_variable)\n",
    "result = result.append(ToAppend, ignore_index=True)\n",
    "\n",
    "# GAM\n",
    "ToAppend, y_pred_GAM = Prediction(method='GAM', X_train=X_train, X_test=X_test, y_train=y_train, y_test=y_test, pred_X=pred_X, pred_y=pred_y, output_variable = output_variable)\n",
    "result = result.append(ToAppend, ignore_index=True)\n",
    "\n",
    "# Random Forest\n",
    "ToAppend, y_pred_RF = Prediction(method='RF', X_train=X_train, X_test=X_test, y_train=y_train, y_test=y_test, pred_X=pred_X, pred_y=pred_y, output_variable = output_variable)\n",
    "result = result.append(ToAppend, ignore_index=True)\n",
    "\n",
    "# XGBoost\n",
    "ToAppend, y_pred_XGBoost = Prediction(method='XGBoost', X_train=X_train, X_test=X_test, y_train=y_train, y_test=y_test, pred_X=pred_X, pred_y=pred_y, output_variable = output_variable)\n",
    "result = result.append(ToAppend, ignore_index=True)\n",
    "\n",
    "result.to_csv(output_path + 'PredictionTask_results.csv', index=False, sep=',')\n",
    "\n",
    "result"
   ]
  },
  {
   "cell_type": "markdown",
   "metadata": {},
   "source": [
    "### Merge dataframes to make the final output dataset"
   ]
  },
  {
   "cell_type": "code",
   "execution_count": 75,
   "metadata": {},
   "outputs": [],
   "source": [
    "def OutputDataframe(data_training, data_test, y_pred, method, output_variable, output_path):\n",
    "    \n",
    "    data_result= pd.DataFrame()\n",
    "    data_result = data_result.append(data_training)\n",
    "    data_result = data_result.append(pd.concat([data_test.drop([output_variable], axis = 1),pd.DataFrame(y_pred)],axis=1))\n",
    "    data_result = data_result[['id', output_variable]]\n",
    "    data_result.to_csv((output_path + 'prediction_result_'+method+'.csv'), sep=',', index=False)"
   ]
  },
  {
   "cell_type": "markdown",
   "metadata": {},
   "source": [
    "### Make the difference output"
   ]
  },
  {
   "cell_type": "code",
   "execution_count": 76,
   "metadata": {},
   "outputs": [],
   "source": [
    "def DiffDataframe(data_training, data_test, y_pred, method, output_variable, output_path):\n",
    " \n",
    "    data_result= pd.DataFrame()\n",
    "    data_result = data_result.append(data_training)\n",
    "    data_result[output_variable] = 0\n",
    "    pred_variable = 'pred'+output_variable\n",
    "    data_test = pd.concat([data_test, y_pred.rename(columns={output_variable: pred_variable})], axis=1)\n",
    "    data_test[output_variable] = data_test[output_variable] - data_test[pred_variable]\n",
    "    data_result = data_result.append(data_test.drop([pred_variable], axis = 1))\n",
    "    data_result = data_result[['id', output_variable]]\n",
    "    data_result.to_csv((output_path + 'prediction_result_diff_'+method+'.csv'), sep=',', index=False)"
   ]
  },
  {
   "cell_type": "code",
   "execution_count": 77,
   "metadata": {},
   "outputs": [],
   "source": [
    "OutputDataframe(data_training,data_test, y_pred_XGBoost, 'XGBoost', output_variable, output_path)\n",
    "DiffDataframe(data_training,data_test, y_pred_XGBoost, 'XGBoost', output_variable, output_path)"
   ]
  },
  {
   "cell_type": "code",
   "execution_count": 78,
   "metadata": {},
   "outputs": [],
   "source": [
    "OutputDataframe(data_training,data_test, y_pred_LR, 'LR', output_variable, output_path)\n",
    "DiffDataframe(data_training,data_test, y_pred_LR, 'LR', output_variable, output_path)"
   ]
  },
  {
   "cell_type": "code",
   "execution_count": 79,
   "metadata": {},
   "outputs": [],
   "source": [
    "OutputDataframe(data_training,data_test, y_pred_RF, 'RF', output_variable, output_path)\n",
    "DiffDataframe(data_training,data_test, y_pred_RF, 'RF', output_variable, output_path)"
   ]
  },
  {
   "cell_type": "code",
   "execution_count": 80,
   "metadata": {},
   "outputs": [],
   "source": [
    "OutputDataframe(data_training,data_test, y_pred_GAM, 'GAM', output_variable, output_path)\n",
    "DiffDataframe(data_training,data_test, y_pred_GAM, 'GAM', output_variable, output_path)"
   ]
  },
  {
   "cell_type": "code",
   "execution_count": 81,
   "metadata": {},
   "outputs": [],
   "source": [
    "OutputDataframe(data_training,data_test, pred_y, 'GT', output_variable, output_path)"
   ]
  }
 ],
 "metadata": {
  "kernelspec": {
   "display_name": "Python 3",
   "language": "python",
   "name": "python3"
  },
  "language_info": {
   "codemirror_mode": {
    "name": "ipython",
    "version": 3
   },
   "file_extension": ".py",
   "mimetype": "text/x-python",
   "name": "python",
   "nbconvert_exporter": "python",
   "pygments_lexer": "ipython3",
   "version": "3.8.5"
  }
 },
 "nbformat": 4,
 "nbformat_minor": 4
}
