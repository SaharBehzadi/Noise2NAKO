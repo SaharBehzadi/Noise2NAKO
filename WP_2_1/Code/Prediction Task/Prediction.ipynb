{
 "cells": [
  {
   "cell_type": "code",
   "execution_count": 5,
   "metadata": {},
   "outputs": [],
   "source": [
    "'''Predicting Mortality across Germany wih different AI Methods\n",
    "'''\n",
    "\n",
    "import numpy as np\n",
    "import pandas as pd\n",
    "import os\n",
    "from matplotlib import pyplot as plt\n",
    "import sklearn\n",
    "from sklearn.model_selection import train_test_split\n",
    "from sklearn import impute\n",
    "from sklearn import linear_model\n",
    "from sklearn.metrics import mean_squared_error, mean_absolute_error, r2_score\n",
    "from sklearn.ensemble import RandomForestRegressor\n",
    "import dbf\n",
    "from pygam import GAM, s, f, LinearGAM\n",
    "import xgboost\n",
    "import warnings\n",
    "warnings.filterwarnings('ignore')\n",
    "%matplotlib inline"
   ]
  },
  {
   "cell_type": "markdown",
   "metadata": {},
   "source": [
    "### Load Data"
   ]
  },
  {
   "cell_type": "code",
   "execution_count": 6,
   "metadata": {},
   "outputs": [],
   "source": [
    "# Set the working directory\n",
    "os.chdir(\"N:/WG_ENRI/20_projects/Noise2NAKO/04_data/grid_prediction/3_output\")"
   ]
  },
  {
   "cell_type": "code",
   "execution_count": 7,
   "metadata": {
    "scrolled": true
   },
   "outputs": [],
   "source": [
    "# Read training and test data\n",
    "data_training = pd.read_csv('Prediction/Training_data_cvd.csv', sep=',')\n",
    "data_test = pd.read_csv('Prediction/Test_data_cvd.csv', sep=',')"
   ]
  },
  {
   "cell_type": "code",
   "execution_count": 21,
   "metadata": {},
   "outputs": [],
   "source": [
    "# distinguish between response and input variables and make training and test data \n",
    "# remove unnecessary features 'id', 'x_sw', 'y_sw','x_mp', 'y_mp'\n",
    "\n",
    "output_variable = 'cvd_mortality_17'\n",
    "output_path = '../5_results/CVD Mortality Rate 2017/'\n",
    "\n",
    "y = data_training[output_variable]\n",
    "X = data_training.drop([output_variable, 'ks_Mortality_17', 'id', 'x_sw', 'y_sw','x_mp', 'y_mp'], axis = 1)\n",
    "\n",
    "pred_y = data_test[output_variable]\n",
    "pred_X = data_test.drop([output_variable, 'ks_Mortality_17', 'id', 'x_sw', 'y_sw','x_mp', 'y_mp'], axis = 1)\n",
    "\n",
    "X_train, X_test, y_train, y_test = train_test_split(X, y, test_size = 0.2, random_state = 10)"
   ]
  },
  {
   "cell_type": "markdown",
   "metadata": {},
   "source": [
    "# Prediction"
   ]
  },
  {
   "cell_type": "code",
   "execution_count": 20,
   "metadata": {},
   "outputs": [],
   "source": [
    "def Prediction(method, X_train, X_test, y_train, y_test, pred_X, pred_y, output_variable):\n",
    "    \n",
    "    '''Prediction Function'''\n",
    "    \n",
    "    if method == 'LR':\n",
    "        model = linear_model.LinearRegression().fit(X_train, y_train)\n",
    "    elif method == 'GAM':\n",
    "        model = GAM(s(0) + s(1) + s(2) + s(3) + s(4) + s(5) + s(6) + s(7) + s(8) + s(9)).fit(X_train, y_train)\n",
    "    elif method == 'RF':\n",
    "        model = RandomForestRegressor(n_estimators= 10, max_depth= 10, random_state= 0, max_features='sqrt').fit(X_train, y_train)\n",
    "    else:\n",
    "        model = xgboost.XGBRegressor().fit(X_train, y_train)\n",
    "    \n",
    "    y_pred_train = model.predict(X_train)\n",
    "    y_pred_test = model.predict(X_test)\n",
    "    y_pred = model.predict(pred_X)\n",
    "\n",
    "    result = {'Method': method, 'MSE_train': mean_squared_error(y_train, y_pred_train),\n",
    "                            'MAE_train': mean_absolute_error(y_train, y_pred_train), 'R_2_train': r2_score(y_train, y_pred_train),\n",
    "                           'MSE_val': mean_squared_error(y_test, y_pred_test), 'MAE_val': mean_absolute_error(y_test, y_pred_test),\n",
    "                           'R_2_val': r2_score(y_test, y_pred_test), 'MSE_pred': mean_squared_error(pred_y, y_pred), 'MAE_pred': mean_absolute_error(pred_y, y_pred),\n",
    "                           'R_2_pred': r2_score(pred_y, y_pred)}\n",
    "    \n",
    "    return result, pd.DataFrame(y_pred, columns = [output_variable])"
   ]
  },
  {
   "cell_type": "markdown",
   "metadata": {},
   "source": [
    "### Prediction with different methods"
   ]
  },
  {
   "cell_type": "code",
   "execution_count": 22,
   "metadata": {
    "scrolled": false
   },
   "outputs": [
    {
     "data": {
      "text/html": [
       "<div>\n",
       "<style scoped>\n",
       "    .dataframe tbody tr th:only-of-type {\n",
       "        vertical-align: middle;\n",
       "    }\n",
       "\n",
       "    .dataframe tbody tr th {\n",
       "        vertical-align: top;\n",
       "    }\n",
       "\n",
       "    .dataframe thead th {\n",
       "        text-align: right;\n",
       "    }\n",
       "</style>\n",
       "<table border=\"1\" class=\"dataframe\">\n",
       "  <thead>\n",
       "    <tr style=\"text-align: right;\">\n",
       "      <th></th>\n",
       "      <th>Method</th>\n",
       "      <th>MSE_train</th>\n",
       "      <th>MAE_train</th>\n",
       "      <th>R_2_train</th>\n",
       "      <th>MSE_val</th>\n",
       "      <th>MAE_val</th>\n",
       "      <th>R_2_val</th>\n",
       "      <th>MSE_pred</th>\n",
       "      <th>MAE_pred</th>\n",
       "      <th>R_2_pred</th>\n",
       "    </tr>\n",
       "  </thead>\n",
       "  <tbody>\n",
       "    <tr>\n",
       "      <th>0</th>\n",
       "      <td>LR</td>\n",
       "      <td>0.116732</td>\n",
       "      <td>0.247131</td>\n",
       "      <td>0.888532</td>\n",
       "      <td>0.112786</td>\n",
       "      <td>0.248329</td>\n",
       "      <td>0.889382</td>\n",
       "      <td>0.548719</td>\n",
       "      <td>0.567655</td>\n",
       "      <td>0.457424</td>\n",
       "    </tr>\n",
       "    <tr>\n",
       "      <th>1</th>\n",
       "      <td>GAM</td>\n",
       "      <td>0.023427</td>\n",
       "      <td>0.092908</td>\n",
       "      <td>0.977630</td>\n",
       "      <td>0.040478</td>\n",
       "      <td>0.113215</td>\n",
       "      <td>0.960300</td>\n",
       "      <td>0.515077</td>\n",
       "      <td>0.537532</td>\n",
       "      <td>0.490689</td>\n",
       "    </tr>\n",
       "    <tr>\n",
       "      <th>2</th>\n",
       "      <td>RF</td>\n",
       "      <td>0.009288</td>\n",
       "      <td>0.054473</td>\n",
       "      <td>0.991130</td>\n",
       "      <td>0.032168</td>\n",
       "      <td>0.105860</td>\n",
       "      <td>0.968451</td>\n",
       "      <td>0.445550</td>\n",
       "      <td>0.511289</td>\n",
       "      <td>0.559438</td>\n",
       "    </tr>\n",
       "    <tr>\n",
       "      <th>3</th>\n",
       "      <td>XGBoost</td>\n",
       "      <td>0.000001</td>\n",
       "      <td>0.000772</td>\n",
       "      <td>0.999999</td>\n",
       "      <td>0.024058</td>\n",
       "      <td>0.068355</td>\n",
       "      <td>0.976405</td>\n",
       "      <td>0.465673</td>\n",
       "      <td>0.516687</td>\n",
       "      <td>0.539541</td>\n",
       "    </tr>\n",
       "  </tbody>\n",
       "</table>\n",
       "</div>"
      ],
      "text/plain": [
       "    Method  MSE_train  MAE_train  R_2_train   MSE_val   MAE_val   R_2_val  \\\n",
       "0       LR   0.116732   0.247131   0.888532  0.112786  0.248329  0.889382   \n",
       "1      GAM   0.023427   0.092908   0.977630  0.040478  0.113215  0.960300   \n",
       "2       RF   0.009288   0.054473   0.991130  0.032168  0.105860  0.968451   \n",
       "3  XGBoost   0.000001   0.000772   0.999999  0.024058  0.068355  0.976405   \n",
       "\n",
       "   MSE_pred  MAE_pred  R_2_pred  \n",
       "0  0.548719  0.567655  0.457424  \n",
       "1  0.515077  0.537532  0.490689  \n",
       "2  0.445550  0.511289  0.559438  \n",
       "3  0.465673  0.516687  0.539541  "
      ]
     },
     "execution_count": 22,
     "metadata": {},
     "output_type": "execute_result"
    }
   ],
   "source": [
    "result= pd.DataFrame(columns=['Method', 'MSE_train', 'MAE_train', 'R_2_train', 'MSE_val', 'MAE_val', 'R_2_val', 'MSE_pred', 'MAE_pred', 'R_2_pred'])\n",
    "\n",
    "# Linear Regression\n",
    "ToAppend, y_pred_LR = Prediction(method='LR', X_train=X_train, X_test=X_test, y_train=y_train, y_test=y_test, pred_X=pred_X, pred_y=pred_y, output_variable = output_variable)\n",
    "result = result.append(ToAppend, ignore_index=True)\n",
    "\n",
    "# GAM\n",
    "ToAppend, y_pred_GAM = Prediction(method='GAM', X_train=X_train, X_test=X_test, y_train=y_train, y_test=y_test, pred_X=pred_X, pred_y=pred_y, output_variable = output_variable)\n",
    "result = result.append(ToAppend, ignore_index=True)\n",
    "\n",
    "# Random Forest\n",
    "ToAppend, y_pred_RF = Prediction(method='RF', X_train=X_train, X_test=X_test, y_train=y_train, y_test=y_test, pred_X=pred_X, pred_y=pred_y, output_variable = output_variable)\n",
    "result = result.append(ToAppend, ignore_index=True)\n",
    "\n",
    "# XGBoost\n",
    "ToAppend, y_pred_XGBoost = Prediction(method='XGBoost', X_train=X_train, X_test=X_test, y_train=y_train, y_test=y_test, pred_X=pred_X, pred_y=pred_y, output_variable = output_variable)\n",
    "result = result.append(ToAppend, ignore_index=True)\n",
    "\n",
    "result.to_csv(output_path + 'PredictionTask_results.csv', index=False, sep=',')\n",
    "\n",
    "result"
   ]
  },
  {
   "cell_type": "markdown",
   "metadata": {},
   "source": [
    "### Merge dataframes to make the final output dataset"
   ]
  },
  {
   "cell_type": "code",
   "execution_count": 27,
   "metadata": {},
   "outputs": [],
   "source": [
    "def OutputDataframe(data_training, data_test, y_pred, method, output_variable, output_path):\n",
    "    \n",
    "    data_result= pd.DataFrame()\n",
    "    data_result = data_result.append(data_training)\n",
    "    data_result = data_result.append(pd.concat([data_test.drop([output_variable], axis = 1),pd.DataFrame(y_pred)],axis=1))\n",
    "    data_result = data_result[['id', output_variable]]\n",
    "    data_result.to_csv((output_path + 'prediction_result_'+method+'.csv'), sep=',', index=False)"
   ]
  },
  {
   "cell_type": "markdown",
   "metadata": {},
   "source": [
    "### Make the difference output"
   ]
  },
  {
   "cell_type": "code",
   "execution_count": 25,
   "metadata": {},
   "outputs": [],
   "source": [
    "def DiffDataframe(data_training, data_test, y_pred, method, output_variable, output_path):\n",
    " \n",
    "    data_result= pd.DataFrame()\n",
    "    data_result = data_result.append(data_training)\n",
    "    data_result[output_variable] = 0\n",
    "    pred_variable = 'pred'+output_variable\n",
    "    data_test = pd.concat([data_test, y_pred.rename(columns={output_variable: pred_variable})], axis=1)\n",
    "    data_test[output_variable] = data_test[output_variable] - data_test[pred_variable]\n",
    "    data_result = data_result.append(data_test.drop([pred_variable], axis = 1))\n",
    "    data_result = data_result[['id', output_variable]]\n",
    "    data_result.to_csv((output_path + 'prediction_result_diff_'+method+'.csv'), sep=',', index=False)"
   ]
  },
  {
   "cell_type": "code",
   "execution_count": 29,
   "metadata": {},
   "outputs": [],
   "source": [
    "OutputDataframe(data_training,data_test, y_pred_XGBoost, 'XGBoost', output_variable, output_path)\n",
    "DiffDataframe(data_training,data_test, y_pred_XGBoost, 'XGBoost', output_variable, output_path)"
   ]
  },
  {
   "cell_type": "code",
   "execution_count": 30,
   "metadata": {},
   "outputs": [],
   "source": [
    "OutputDataframe(data_training,data_test, y_pred_LR, 'LR', output_variable, output_path)\n",
    "DiffDataframe(data_training,data_test, y_pred_LR, 'LR', output_variable, output_path)"
   ]
  },
  {
   "cell_type": "code",
   "execution_count": 31,
   "metadata": {},
   "outputs": [],
   "source": [
    "OutputDataframe(data_training,data_test, y_pred_RF, 'RF', output_variable, output_path)\n",
    "DiffDataframe(data_training,data_test, y_pred_RF, 'RF', output_variable, output_path)"
   ]
  },
  {
   "cell_type": "code",
   "execution_count": 32,
   "metadata": {},
   "outputs": [],
   "source": [
    "OutputDataframe(data_training,data_test, y_pred_GAM, 'GAM', output_variable, output_path)\n",
    "DiffDataframe(data_training,data_test, y_pred_GAM, 'GAM', output_variable, output_path)"
   ]
  },
  {
   "cell_type": "code",
   "execution_count": 33,
   "metadata": {},
   "outputs": [],
   "source": [
    "OutputDataframe(data_training,data_test, pred_y, 'GT', output_variable, output_path)"
   ]
  }
 ],
 "metadata": {
  "kernelspec": {
   "display_name": "Python 3",
   "language": "python",
   "name": "python3"
  },
  "language_info": {
   "codemirror_mode": {
    "name": "ipython",
    "version": 3
   },
   "file_extension": ".py",
   "mimetype": "text/x-python",
   "name": "python",
   "nbconvert_exporter": "python",
   "pygments_lexer": "ipython3",
   "version": "3.8.5"
  }
 },
 "nbformat": 4,
 "nbformat_minor": 4
}
