{
 "cells": [
  {
   "cell_type": "code",
   "execution_count": 18,
   "metadata": {},
   "outputs": [],
   "source": [
    "'''Predicting Mortality across Germany wih different AI Methods\n",
    "'''\n",
    "\n",
    "import numpy as np\n",
    "import pandas as pd\n",
    "import os\n",
    "from matplotlib import pyplot as plt\n",
    "import sklearn\n",
    "from sklearn.model_selection import train_test_split\n",
    "from sklearn import impute\n",
    "from sklearn import linear_model\n",
    "from sklearn.metrics import mean_squared_error, mean_absolute_error, r2_score\n",
    "from sklearn.ensemble import RandomForestRegressor, AdaBoostRegressor, GradientBoostingRegressor, VotingRegressor\n",
    "import dbf\n",
    "from pygam import GAM, s, f, LinearGAM\n",
    "import xgboost\n",
    "import warnings\n",
    "warnings.filterwarnings('ignore')\n",
    "%matplotlib inline"
   ]
  },
  {
   "cell_type": "markdown",
   "metadata": {},
   "source": [
    "### Load Data"
   ]
  },
  {
   "cell_type": "code",
   "execution_count": 19,
   "metadata": {},
   "outputs": [],
   "source": [
    "# Set the working directory\n",
    "os.chdir(\"N:/WG_ENRI/20_projects/Noise2NAKO/04_data/grid_prediction/3_output\")"
   ]
  },
  {
   "cell_type": "code",
   "execution_count": 30,
   "metadata": {
    "scrolled": true
   },
   "outputs": [],
   "source": [
    "# Read training and test data\n",
    "data_training = pd.read_csv('Prediction/Training_data_cvd_noise.csv', sep=',')\n",
    "data_test = pd.read_csv('Prediction/Test_data_cvd_noise.csv', sep=',')"
   ]
  },
  {
   "cell_type": "code",
   "execution_count": 35,
   "metadata": {},
   "outputs": [],
   "source": [
    "# distinguish between response and input variables and make training and test data \n",
    "# remove unnecessary features 'id', 'x_sw', 'y_sw','x_mp', 'y_mp'\n",
    "\n",
    "output_variable = 'cvd_mortality_17'\n",
    "output_path = 'CVD Mortality Rate 2017 incl Noise_XY'\n",
    "\n",
    "# output_variable = 'ks_Mortality_17'\n",
    "# output_path = 'Total Mortality Rate 2017 incl XY'\n",
    "\n",
    "output_path = '../5_results/' + output_path + '/'\n",
    "coord = True\n",
    "\n",
    "y = data_training[output_variable]\n",
    "if coord:\n",
    "    X = data_training.drop([output_variable, 'ks_Mortality_17', 'id'], axis = 1)   \n",
    "else:\n",
    "    X = data_training.drop([output_variable, 'ks_Mortality_17', 'id', 'x_sw', 'y_sw','x_mp', 'y_mp'], axis = 1)\n",
    "    \n",
    "pred_y = data_test[output_variable]\n",
    "if coord:\n",
    "    pred_X = data_test.drop([output_variable, 'ks_Mortality_17', 'id'], axis = 1)\n",
    "else:\n",
    "    pred_X = data_test.drop([output_variable, 'ks_Mortality_17', 'id', 'x_sw', 'y_sw','x_mp', 'y_mp'], axis = 1)\n",
    "\n",
    "X_train, X_test, y_train, y_test = train_test_split(X, y, test_size = 0.2, random_state = 10)"
   ]
  },
  {
   "cell_type": "code",
   "execution_count": 36,
   "metadata": {},
   "outputs": [
    {
     "name": "stdout",
     "output_type": "stream",
     "text": [
      "<class 'pandas.core.frame.DataFrame'>\n",
      "Int64Index: 685 entries, 152 to 265\n",
      "Data columns (total 33 columns):\n",
      " #   Column         Non-Null Count  Dtype  \n",
      "---  ------         --------------  -----  \n",
      " 0   x_sw           685 non-null    int64  \n",
      " 1   y_sw           685 non-null    float64\n",
      " 2   x_mp           685 non-null    int64  \n",
      " 3   y_mp           685 non-null    int64  \n",
      " 4   ks_foreign_17  685 non-null    float64\n",
      " 5   ks_inc_hh_17   685 non-null    float64\n",
      " 6   ks_inc_17      685 non-null    float64\n",
      " 7   ks_nondipl_17  685 non-null    float64\n",
      " 8   ks_abi_17      685 non-null    float64\n",
      " 9   ks_arbl_17     685 non-null    float64\n",
      " 10  ks_GISD_14     685 non-null    float64\n",
      " 11  geb_abs        685 non-null    float64\n",
      " 12  hh_abs         685 non-null    float64\n",
      " 13  pers_abs       685 non-null    float64\n",
      " 14  imp_pct05_15   685 non-null    int64  \n",
      " 15  imp_pct25_15   685 non-null    int64  \n",
      " 16  imp_pct50_15   685 non-null    float64\n",
      " 17  imp_mean_15    685 non-null    float64\n",
      " 18  imp_pct75_15   685 non-null    float64\n",
      " 19  imp_pct95_15   685 non-null    float64\n",
      " 20  imp_pct05_18   685 non-null    float64\n",
      " 21  imp_pct25_18   685 non-null    float64\n",
      " 22  imp_pct50_18   685 non-null    float64\n",
      " 23  imp_mean_18    685 non-null    float64\n",
      " 24  imp_pct75_18   685 non-null    float64\n",
      " 25  imp_pct95_18   685 non-null    float64\n",
      " 26  grn_pct05      685 non-null    float64\n",
      " 27  grn_pct25      685 non-null    float64\n",
      " 28  grn_pct50      685 non-null    float64\n",
      " 29  grn_mean       685 non-null    float64\n",
      " 30  grn_pct75      685 non-null    float64\n",
      " 31  grn_pct95      685 non-null    float64\n",
      " 32  noise_mean_17  685 non-null    float64\n",
      "dtypes: float64(28), int64(5)\n",
      "memory usage: 182.0 KB\n"
     ]
    }
   ],
   "source": [
    "X_train.info()"
   ]
  },
  {
   "cell_type": "markdown",
   "metadata": {},
   "source": [
    "# Prediction"
   ]
  },
  {
   "cell_type": "code",
   "execution_count": 37,
   "metadata": {},
   "outputs": [],
   "source": [
    "def Prediction(method, X_train, X_test, y_train, y_test, pred_X, pred_y, output_variable):\n",
    "    \n",
    "    '''Prediction Function'''\n",
    "    \n",
    "    if method == 'LR':\n",
    "        model = linear_model.LinearRegression().fit(X_train, y_train)\n",
    "    elif method == 'LR_Ridge':\n",
    "        model = linear_model.RidgeCV(cv = 5).fit(X_train, y_train)\n",
    "    elif method == 'LR_Lasso':\n",
    "        model = linear_model.LassoCV(cv = 5, random_state=0).fit(X_train, y_train)\n",
    "    elif method == 'LR_Elastic':\n",
    "        model = linear_model.ElasticNetCV(cv = 5, random_state=0).fit(X_train, y_train)\n",
    "    elif method == 'GAM':\n",
    "        model = GAM(s(0) + s(1) + s(2) + s(3) + s(4) + s(5) + s(6) + s(7) + s(8) + s(9)).fit(X_train, y_train)\n",
    "    elif method == 'RF':\n",
    "        model = RandomForestRegressor(n_estimators= 10, max_depth= 10, random_state= 0, max_features='sqrt').fit(X_train, y_train)\n",
    "    elif method == 'AdaB':\n",
    "        model = AdaBoostRegressor(n_estimators= 10, random_state=0).fit(X_train, y_train)\n",
    "    else:\n",
    "        model = xgboost.XGBRegressor().fit(X_train, y_train)\n",
    "    \n",
    "    y_pred_train = model.predict(X_train)\n",
    "    y_pred_test = model.predict(X_test)\n",
    "    y_pred = model.predict(pred_X)\n",
    "\n",
    "    result = {'Method': method, 'MSE_train': mean_squared_error(y_train, y_pred_train),\n",
    "                            'MAE_train': mean_absolute_error(y_train, y_pred_train), 'R_2_train': r2_score(y_train, y_pred_train),\n",
    "                           'MSE_val': mean_squared_error(y_test, y_pred_test), 'MAE_val': mean_absolute_error(y_test, y_pred_test),\n",
    "                           'R_2_val': r2_score(y_test, y_pred_test), 'MSE_pred': mean_squared_error(pred_y, y_pred), 'MAE_pred': mean_absolute_error(pred_y, y_pred),\n",
    "                           'R_2_pred': r2_score(pred_y, y_pred)}\n",
    "    \n",
    "    return result, pd.DataFrame(y_pred, columns = [output_variable])"
   ]
  },
  {
   "cell_type": "markdown",
   "metadata": {},
   "source": [
    "### Prediction with different methods"
   ]
  },
  {
   "cell_type": "code",
   "execution_count": 38,
   "metadata": {
    "scrolled": false
   },
   "outputs": [
    {
     "data": {
      "text/html": [
       "<div>\n",
       "<style scoped>\n",
       "    .dataframe tbody tr th:only-of-type {\n",
       "        vertical-align: middle;\n",
       "    }\n",
       "\n",
       "    .dataframe tbody tr th {\n",
       "        vertical-align: top;\n",
       "    }\n",
       "\n",
       "    .dataframe thead th {\n",
       "        text-align: right;\n",
       "    }\n",
       "</style>\n",
       "<table border=\"1\" class=\"dataframe\">\n",
       "  <thead>\n",
       "    <tr style=\"text-align: right;\">\n",
       "      <th></th>\n",
       "      <th>Method</th>\n",
       "      <th>MSE_train</th>\n",
       "      <th>MAE_train</th>\n",
       "      <th>R_2_train</th>\n",
       "      <th>MSE_val</th>\n",
       "      <th>MAE_val</th>\n",
       "      <th>R_2_val</th>\n",
       "      <th>MSE_pred</th>\n",
       "      <th>MAE_pred</th>\n",
       "      <th>R_2_pred</th>\n",
       "    </tr>\n",
       "  </thead>\n",
       "  <tbody>\n",
       "    <tr>\n",
       "      <th>0</th>\n",
       "      <td>LR</td>\n",
       "      <td>0.109875</td>\n",
       "      <td>0.239581</td>\n",
       "      <td>0.895079</td>\n",
       "      <td>0.098786</td>\n",
       "      <td>0.223477</td>\n",
       "      <td>0.903112</td>\n",
       "      <td>0.506337</td>\n",
       "      <td>0.540181</td>\n",
       "      <td>0.499332</td>\n",
       "    </tr>\n",
       "    <tr>\n",
       "      <th>1</th>\n",
       "      <td>LR_Ridge</td>\n",
       "      <td>0.110552</td>\n",
       "      <td>0.240676</td>\n",
       "      <td>0.894433</td>\n",
       "      <td>0.100105</td>\n",
       "      <td>0.227555</td>\n",
       "      <td>0.901819</td>\n",
       "      <td>0.520690</td>\n",
       "      <td>0.551779</td>\n",
       "      <td>0.485140</td>\n",
       "    </tr>\n",
       "    <tr>\n",
       "      <th>2</th>\n",
       "      <td>LR_Lasso</td>\n",
       "      <td>0.518194</td>\n",
       "      <td>0.589722</td>\n",
       "      <td>0.505173</td>\n",
       "      <td>0.463448</td>\n",
       "      <td>0.570030</td>\n",
       "      <td>0.545459</td>\n",
       "      <td>0.862006</td>\n",
       "      <td>0.685550</td>\n",
       "      <td>0.147645</td>\n",
       "    </tr>\n",
       "    <tr>\n",
       "      <th>3</th>\n",
       "      <td>LR_Elastic</td>\n",
       "      <td>0.518198</td>\n",
       "      <td>0.589725</td>\n",
       "      <td>0.505169</td>\n",
       "      <td>0.463451</td>\n",
       "      <td>0.570032</td>\n",
       "      <td>0.545457</td>\n",
       "      <td>0.862007</td>\n",
       "      <td>0.685550</td>\n",
       "      <td>0.147644</td>\n",
       "    </tr>\n",
       "    <tr>\n",
       "      <th>4</th>\n",
       "      <td>GAM</td>\n",
       "      <td>0.019731</td>\n",
       "      <td>0.088177</td>\n",
       "      <td>0.981159</td>\n",
       "      <td>0.029679</td>\n",
       "      <td>0.106747</td>\n",
       "      <td>0.970892</td>\n",
       "      <td>0.470500</td>\n",
       "      <td>0.507509</td>\n",
       "      <td>0.534768</td>\n",
       "    </tr>\n",
       "    <tr>\n",
       "      <th>5</th>\n",
       "      <td>RF</td>\n",
       "      <td>0.009992</td>\n",
       "      <td>0.050354</td>\n",
       "      <td>0.990458</td>\n",
       "      <td>0.032427</td>\n",
       "      <td>0.097554</td>\n",
       "      <td>0.968197</td>\n",
       "      <td>0.436365</td>\n",
       "      <td>0.502720</td>\n",
       "      <td>0.568521</td>\n",
       "    </tr>\n",
       "    <tr>\n",
       "      <th>6</th>\n",
       "      <td>AdaB</td>\n",
       "      <td>0.048115</td>\n",
       "      <td>0.157629</td>\n",
       "      <td>0.954055</td>\n",
       "      <td>0.063676</td>\n",
       "      <td>0.175032</td>\n",
       "      <td>0.937548</td>\n",
       "      <td>0.478524</td>\n",
       "      <td>0.531680</td>\n",
       "      <td>0.526834</td>\n",
       "    </tr>\n",
       "    <tr>\n",
       "      <th>7</th>\n",
       "      <td>XGBoost</td>\n",
       "      <td>0.000002</td>\n",
       "      <td>0.000940</td>\n",
       "      <td>0.999998</td>\n",
       "      <td>0.013894</td>\n",
       "      <td>0.055238</td>\n",
       "      <td>0.986373</td>\n",
       "      <td>0.397873</td>\n",
       "      <td>0.474731</td>\n",
       "      <td>0.606581</td>\n",
       "    </tr>\n",
       "  </tbody>\n",
       "</table>\n",
       "</div>"
      ],
      "text/plain": [
       "       Method  MSE_train  MAE_train  R_2_train   MSE_val   MAE_val   R_2_val  \\\n",
       "0          LR   0.109875   0.239581   0.895079  0.098786  0.223477  0.903112   \n",
       "1    LR_Ridge   0.110552   0.240676   0.894433  0.100105  0.227555  0.901819   \n",
       "2    LR_Lasso   0.518194   0.589722   0.505173  0.463448  0.570030  0.545459   \n",
       "3  LR_Elastic   0.518198   0.589725   0.505169  0.463451  0.570032  0.545457   \n",
       "4         GAM   0.019731   0.088177   0.981159  0.029679  0.106747  0.970892   \n",
       "5          RF   0.009992   0.050354   0.990458  0.032427  0.097554  0.968197   \n",
       "6        AdaB   0.048115   0.157629   0.954055  0.063676  0.175032  0.937548   \n",
       "7     XGBoost   0.000002   0.000940   0.999998  0.013894  0.055238  0.986373   \n",
       "\n",
       "   MSE_pred  MAE_pred  R_2_pred  \n",
       "0  0.506337  0.540181  0.499332  \n",
       "1  0.520690  0.551779  0.485140  \n",
       "2  0.862006  0.685550  0.147645  \n",
       "3  0.862007  0.685550  0.147644  \n",
       "4  0.470500  0.507509  0.534768  \n",
       "5  0.436365  0.502720  0.568521  \n",
       "6  0.478524  0.531680  0.526834  \n",
       "7  0.397873  0.474731  0.606581  "
      ]
     },
     "execution_count": 38,
     "metadata": {},
     "output_type": "execute_result"
    }
   ],
   "source": [
    "result= pd.DataFrame(columns=['Method', 'MSE_train', 'MAE_train', 'R_2_train', 'MSE_val', 'MAE_val', 'R_2_val', 'MSE_pred', 'MAE_pred', 'R_2_pred'])\n",
    "\n",
    "# Linear Regression\n",
    "ToAppend, y_pred_LR = Prediction('LR', X_train, X_test, y_train, y_test, pred_X, pred_y, output_variable)\n",
    "result = result.append(ToAppend, ignore_index=True)\n",
    "\n",
    "# Linear Regression _ Ridge\n",
    "ToAppend, y_pred_LR = Prediction(method='LR_Ridge', X_train=X_train, X_test=X_test, y_train=y_train, y_test=y_test, pred_X=pred_X, pred_y=pred_y, output_variable = output_variable)\n",
    "result = result.append(ToAppend, ignore_index=True)\n",
    "\n",
    "# Linear Regression - Lasso\n",
    "ToAppend, y_pred_LR = Prediction(method='LR_Lasso', X_train=X_train, X_test=X_test, y_train=y_train, y_test=y_test, pred_X=pred_X, pred_y=pred_y, output_variable = output_variable)\n",
    "result = result.append(ToAppend, ignore_index=True)\n",
    "\n",
    "# Linear Regression - ElasticNet\n",
    "ToAppend, y_pred_LR = Prediction(method='LR_Elastic', X_train=X_train, X_test=X_test, y_train=y_train, y_test=y_test, pred_X=pred_X, pred_y=pred_y, output_variable = output_variable)\n",
    "result = result.append(ToAppend, ignore_index=True)\n",
    "\n",
    "# GAM\n",
    "ToAppend, y_pred_GAM = Prediction(method='GAM', X_train=X_train, X_test=X_test, y_train=y_train, y_test=y_test, pred_X=pred_X, pred_y=pred_y, output_variable = output_variable)\n",
    "result = result.append(ToAppend, ignore_index=True)\n",
    "\n",
    "# Random Forest\n",
    "ToAppend, y_pred_RF = Prediction(method='RF', X_train=X_train, X_test=X_test, y_train=y_train, y_test=y_test, pred_X=pred_X, pred_y=pred_y, output_variable = output_variable)\n",
    "result = result.append(ToAppend, ignore_index=True)\n",
    "\n",
    "# AdaBoost\n",
    "ToAppend, y_pred_RF = Prediction(method='AdaB', X_train=X_train, X_test=X_test, y_train=y_train, y_test=y_test, pred_X=pred_X, pred_y=pred_y, output_variable = output_variable)\n",
    "result = result.append(ToAppend, ignore_index=True)\n",
    "\n",
    "# XGBoost\n",
    "ToAppend, y_pred_XGBoost = Prediction(method='XGBoost', X_train=X_train, X_test=X_test, y_train=y_train, y_test=y_test, pred_X=pred_X, pred_y=pred_y, output_variable = output_variable)\n",
    "result = result.append(ToAppend, ignore_index=True)\n",
    "\n",
    "result.to_csv(output_path + 'PredictionTask_results_alMethods.csv', index=False, sep=',')\n",
    "result.round(decimals=3).to_csv(output_path + 'PredictionTask_results_alMethods_round.csv', index=False, sep=',')\n",
    "\n",
    "result"
   ]
  },
  {
   "cell_type": "markdown",
   "metadata": {},
   "source": [
    "### Merge dataframes to make the final output dataset"
   ]
  },
  {
   "cell_type": "code",
   "execution_count": 75,
   "metadata": {},
   "outputs": [],
   "source": [
    "def OutputDataframe(data_training, data_test, y_pred, method, output_variable, output_path):\n",
    "    \n",
    "    data_result= pd.DataFrame()\n",
    "    data_result = data_result.append(data_training)\n",
    "    data_result = data_result.append(pd.concat([data_test.drop([output_variable], axis = 1),pd.DataFrame(y_pred)],axis=1))\n",
    "    data_result = data_result[['id', output_variable]]\n",
    "    data_result.to_csv((output_path + 'prediction_result_'+method+'.csv'), sep=',', index=False)"
   ]
  },
  {
   "cell_type": "markdown",
   "metadata": {},
   "source": [
    "### Make the difference output"
   ]
  },
  {
   "cell_type": "code",
   "execution_count": 76,
   "metadata": {},
   "outputs": [],
   "source": [
    "def DiffDataframe(data_training, data_test, y_pred, method, output_variable, output_path):\n",
    " \n",
    "    data_result= pd.DataFrame()\n",
    "    data_result = data_result.append(data_training)\n",
    "    data_result[output_variable] = 0\n",
    "    pred_variable = 'pred'+output_variable\n",
    "    data_test = pd.concat([data_test, y_pred.rename(columns={output_variable: pred_variable})], axis=1)\n",
    "    data_test[output_variable] = data_test[output_variable] - data_test[pred_variable]\n",
    "    data_result = data_result.append(data_test.drop([pred_variable], axis = 1))\n",
    "    data_result = data_result[['id', output_variable]]\n",
    "    data_result.to_csv((output_path + 'prediction_result_diff_'+method+'.csv'), sep=',', index=False)"
   ]
  },
  {
   "cell_type": "code",
   "execution_count": 77,
   "metadata": {},
   "outputs": [],
   "source": [
    "OutputDataframe(data_training,data_test, y_pred_XGBoost, 'XGBoost', output_variable, output_path)\n",
    "DiffDataframe(data_training,data_test, y_pred_XGBoost, 'XGBoost', output_variable, output_path)"
   ]
  },
  {
   "cell_type": "code",
   "execution_count": 78,
   "metadata": {},
   "outputs": [],
   "source": [
    "OutputDataframe(data_training,data_test, y_pred_LR, 'LR', output_variable, output_path)\n",
    "DiffDataframe(data_training,data_test, y_pred_LR, 'LR', output_variable, output_path)"
   ]
  },
  {
   "cell_type": "code",
   "execution_count": 79,
   "metadata": {},
   "outputs": [],
   "source": [
    "OutputDataframe(data_training,data_test, y_pred_RF, 'RF', output_variable, output_path)\n",
    "DiffDataframe(data_training,data_test, y_pred_RF, 'RF', output_variable, output_path)"
   ]
  },
  {
   "cell_type": "code",
   "execution_count": 80,
   "metadata": {},
   "outputs": [],
   "source": [
    "OutputDataframe(data_training,data_test, y_pred_GAM, 'GAM', output_variable, output_path)\n",
    "DiffDataframe(data_training,data_test, y_pred_GAM, 'GAM', output_variable, output_path)"
   ]
  },
  {
   "cell_type": "code",
   "execution_count": 81,
   "metadata": {},
   "outputs": [],
   "source": [
    "OutputDataframe(data_training,data_test, pred_y, 'GT', output_variable, output_path)"
   ]
  }
 ],
 "metadata": {
  "kernelspec": {
   "display_name": "Python 3",
   "language": "python",
   "name": "python3"
  },
  "language_info": {
   "codemirror_mode": {
    "name": "ipython",
    "version": 3
   },
   "file_extension": ".py",
   "mimetype": "text/x-python",
   "name": "python",
   "nbconvert_exporter": "python",
   "pygments_lexer": "ipython3",
   "version": "3.8.5"
  }
 },
 "nbformat": 4,
 "nbformat_minor": 4
}
