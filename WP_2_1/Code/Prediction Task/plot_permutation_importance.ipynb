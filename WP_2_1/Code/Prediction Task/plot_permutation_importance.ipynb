{
 "cells": [
  {
   "cell_type": "code",
   "execution_count": null,
   "metadata": {},
   "outputs": [],
   "source": [
    "%matplotlib inline"
   ]
  },
  {
   "cell_type": "markdown",
   "metadata": {},
   "source": [
    "\n",
    "# Permutation Importance vs Random Forest Feature Importance (MDI)\n",
    "\n",
    "In this example, we will compare the impurity-based feature importance of\n",
    ":class:`~sklearn.ensemble.RandomForestClassifier` with the\n",
    "permutation importance on the titanic dataset using\n",
    ":func:`~sklearn.inspection.permutation_importance`. We will show that the\n",
    "impurity-based feature importance can inflate the importance of numerical\n",
    "features.\n",
    "\n",
    "Furthermore, the impurity-based feature importance of random forests suffers\n",
    "from being computed on statistics derived from the training dataset: the\n",
    "importances can be high even for features that are not predictive of the target\n",
    "variable, as long as the model has the capacity to use them to overfit.\n",
    "\n",
    "This example shows how to use Permutation Importances as an alternative that\n",
    "can mitigate those limitations.\n",
    "\n",
    ".. topic:: References:\n",
    "\n",
    "   [1] L. Breiman, \"Random Forests\", Machine Learning, 45(1), 5-32,\n",
    "       2001. https://doi.org/10.1023/A:1010933404324\n"
   ]
  },
  {
   "cell_type": "code",
   "execution_count": null,
   "metadata": {},
   "outputs": [],
   "source": [
    "import matplotlib.pyplot as plt\n",
    "import numpy as np\n",
    "\n",
    "from sklearn.datasets import fetch_openml\n",
    "from sklearn.ensemble import RandomForestClassifier\n",
    "from sklearn.impute import SimpleImputer\n",
    "from sklearn.inspection import permutation_importance\n",
    "from sklearn.compose import ColumnTransformer\n",
    "from sklearn.model_selection import train_test_split\n",
    "from sklearn.pipeline import Pipeline\n",
    "from sklearn.preprocessing import OneHotEncoder"
   ]
  },
  {
   "cell_type": "markdown",
   "metadata": {},
   "source": [
    "## Data Loading and Feature Engineering\n",
    "Let's use pandas to load a copy of the titanic dataset. The following shows\n",
    "how to apply separate preprocessing on numerical and categorical features.\n",
    "\n",
    "We further include two random variables that are not correlated in any way\n",
    "with the target variable (``survived``):\n",
    "\n",
    "- ``random_num`` is a high cardinality numerical variable (as many unique\n",
    "  values as records).\n",
    "- ``random_cat`` is a low cardinality categorical variable (3 possible\n",
    "  values).\n",
    "\n"
   ]
  },
  {
   "cell_type": "code",
   "execution_count": null,
   "metadata": {},
   "outputs": [],
   "source": [
    "X, y = fetch_openml(\"titanic\", version=1, as_frame=True, return_X_y=True)\n",
    "rng = np.random.RandomState(seed=42)\n",
    "X[\"random_cat\"] = rng.randint(3, size=X.shape[0])\n",
    "X[\"random_num\"] = rng.randn(X.shape[0])\n",
    "\n",
    "categorical_columns = [\"pclass\", \"sex\", \"embarked\", \"random_cat\"]\n",
    "numerical_columns = [\"age\", \"sibsp\", \"parch\", \"fare\", \"random_num\"]\n",
    "\n",
    "X = X[categorical_columns + numerical_columns]\n",
    "\n",
    "X_train, X_test, y_train, y_test = train_test_split(X, y, stratify=y, random_state=42)\n",
    "\n",
    "categorical_encoder = OneHotEncoder(handle_unknown=\"ignore\")\n",
    "numerical_pipe = Pipeline([(\"imputer\", SimpleImputer(strategy=\"mean\"))])\n",
    "\n",
    "preprocessing = ColumnTransformer(\n",
    "    [\n",
    "        (\"cat\", categorical_encoder, categorical_columns),\n",
    "        (\"num\", numerical_pipe, numerical_columns),\n",
    "    ]\n",
    ")\n",
    "\n",
    "rf = Pipeline(\n",
    "    [\n",
    "        (\"preprocess\", preprocessing),\n",
    "        (\"classifier\", RandomForestClassifier(random_state=42)),\n",
    "    ]\n",
    ")\n",
    "rf.fit(X_train, y_train)"
   ]
  },
  {
   "cell_type": "markdown",
   "metadata": {},
   "source": [
    "## Accuracy of the Model\n",
    "Prior to inspecting the feature importances, it is important to check that\n",
    "the model predictive performance is high enough. Indeed there would be little\n",
    "interest of inspecting the important features of a non-predictive model.\n",
    "\n",
    "Here one can observe that the train accuracy is very high (the forest model\n",
    "has enough capacity to completely memorize the training set) but it can still\n",
    "generalize well enough to the test set thanks to the built-in bagging of\n",
    "random forests.\n",
    "\n",
    "It might be possible to trade some accuracy on the training set for a\n",
    "slightly better accuracy on the test set by limiting the capacity of the\n",
    "trees (for instance by setting ``min_samples_leaf=5`` or\n",
    "``min_samples_leaf=10``) so as to limit overfitting while not introducing too\n",
    "much underfitting.\n",
    "\n",
    "However let's keep our high capacity random forest model for now so as to\n",
    "illustrate some pitfalls with feature importance on variables with many\n",
    "unique values.\n",
    "\n"
   ]
  },
  {
   "cell_type": "code",
   "execution_count": null,
   "metadata": {},
   "outputs": [],
   "source": [
    "print(\"RF train accuracy: %0.3f\" % rf.score(X_train, y_train))\n",
    "print(\"RF test accuracy: %0.3f\" % rf.score(X_test, y_test))"
   ]
  },
  {
   "cell_type": "markdown",
   "metadata": {},
   "source": [
    "## Tree's Feature Importance from Mean Decrease in Impurity (MDI)\n",
    "The impurity-based feature importance ranks the numerical features to be the\n",
    "most important features. As a result, the non-predictive ``random_num``\n",
    "variable is ranked the most important!\n",
    "\n",
    "This problem stems from two limitations of impurity-based feature\n",
    "importances:\n",
    "\n",
    "- impurity-based importances are biased towards high cardinality features;\n",
    "- impurity-based importances are computed on training set statistics and\n",
    "  therefore do not reflect the ability of feature to be useful to make\n",
    "  predictions that generalize to the test set (when the model has enough\n",
    "  capacity).\n",
    "\n"
   ]
  },
  {
   "cell_type": "code",
   "execution_count": null,
   "metadata": {},
   "outputs": [],
   "source": [
    "ohe = rf.named_steps[\"preprocess\"].named_transformers_[\"cat\"]\n",
    "feature_names = ohe.get_feature_names_out(categorical_columns)\n",
    "feature_names = np.r_[feature_names, numerical_columns]\n",
    "\n",
    "tree_feature_importances = rf.named_steps[\"classifier\"].feature_importances_\n",
    "sorted_idx = tree_feature_importances.argsort()\n",
    "\n",
    "y_ticks = np.arange(0, len(feature_names))\n",
    "fig, ax = plt.subplots()\n",
    "ax.barh(y_ticks, tree_feature_importances[sorted_idx])\n",
    "ax.set_yticks(y_ticks)\n",
    "ax.set_yticklabels(feature_names[sorted_idx])\n",
    "ax.set_title(\"Random Forest Feature Importances (MDI)\")\n",
    "fig.tight_layout()\n",
    "plt.show()"
   ]
  },
  {
   "cell_type": "markdown",
   "metadata": {},
   "source": [
    "As an alternative, the permutation importances of ``rf`` are computed on a\n",
    "held out test set. This shows that the low cardinality categorical feature,\n",
    "``sex`` is the most important feature.\n",
    "\n",
    "Also note that both random features have very low importances (close to 0) as\n",
    "expected.\n",
    "\n"
   ]
  },
  {
   "cell_type": "code",
   "execution_count": null,
   "metadata": {},
   "outputs": [],
   "source": [
    "result = permutation_importance(\n",
    "    rf, X_test, y_test, n_repeats=10, random_state=42, n_jobs=2\n",
    ")\n",
    "sorted_idx = result.importances_mean.argsort()\n",
    "\n",
    "fig, ax = plt.subplots()\n",
    "ax.boxplot(\n",
    "    result.importances[sorted_idx].T, vert=False, labels=X_test.columns[sorted_idx]\n",
    ")\n",
    "ax.set_title(\"Permutation Importances (test set)\")\n",
    "fig.tight_layout()\n",
    "plt.show()"
   ]
  },
  {
   "cell_type": "markdown",
   "metadata": {},
   "source": [
    "It is also possible to compute the permutation importances on the training\n",
    "set. This reveals that ``random_num`` gets a significantly higher importance\n",
    "ranking than when computed on the test set. The difference between those two\n",
    "plots is a confirmation that the RF model has enough capacity to use that\n",
    "random numerical feature to overfit. You can further confirm this by\n",
    "re-running this example with constrained RF with min_samples_leaf=10.\n",
    "\n"
   ]
  },
  {
   "cell_type": "code",
   "execution_count": null,
   "metadata": {},
   "outputs": [],
   "source": [
    "result = permutation_importance(\n",
    "    rf, X_train, y_train, n_repeats=10, random_state=42, n_jobs=2\n",
    ")\n",
    "sorted_idx = result.importances_mean.argsort()\n",
    "\n",
    "fig, ax = plt.subplots()\n",
    "ax.boxplot(\n",
    "    result.importances[sorted_idx].T, vert=False, labels=X_train.columns[sorted_idx]\n",
    ")\n",
    "ax.set_title(\"Permutation Importances (train set)\")\n",
    "fig.tight_layout()\n",
    "plt.show()"
   ]
  }
 ],
 "metadata": {
  "kernelspec": {
   "display_name": "Python 3",
   "language": "python",
   "name": "python3"
  },
  "language_info": {
   "codemirror_mode": {
    "name": "ipython",
    "version": 3
   },
   "file_extension": ".py",
   "mimetype": "text/x-python",
   "name": "python",
   "nbconvert_exporter": "python",
   "pygments_lexer": "ipython3",
   "version": "3.8.5"
  }
 },
 "nbformat": 4,
 "nbformat_minor": 1
}
