{
 "cells": [
  {
   "cell_type": "code",
   "execution_count": 1,
   "metadata": {},
   "outputs": [],
   "source": [
    "'''Predicting Mortality across Germany wih different AI Methods\n",
    "'''\n",
    "\n",
    "import numpy as np\n",
    "import pandas as pd\n",
    "import os\n",
    "from matplotlib import pyplot as plt\n",
    "import sklearn\n",
    "from sklearn.model_selection import train_test_split\n",
    "from sklearn import impute\n",
    "from sklearn import linear_model\n",
    "from sklearn.metrics import mean_squared_error, mean_absolute_error, r2_score\n",
    "from sklearn.ensemble import RandomForestRegressor\n",
    "import dbf\n",
    "from pygam import GAM, s, f, LinearGAM\n",
    "import xgboost\n",
    "import warnings\n",
    "warnings.filterwarnings('ignore')\n",
    "%matplotlib inline"
   ]
  },
  {
   "cell_type": "markdown",
   "metadata": {},
   "source": [
    "### Load Data"
   ]
  },
  {
   "cell_type": "code",
   "execution_count": 2,
   "metadata": {},
   "outputs": [],
   "source": [
    "# Set the working directory\n",
    "os.chdir(\"N:/WG_ENRI/20_projects/Noise2NAKO/04_data/grid_prediction/3_output\")"
   ]
  },
  {
   "cell_type": "code",
   "execution_count": 3,
   "metadata": {
    "scrolled": true
   },
   "outputs": [],
   "source": [
    "# Read training and test data\n",
    "data_training = pd.read_csv('Prediction/Training_data.csv', sep=',')\n",
    "data_test = pd.read_csv('Prediction/Test_data.csv', sep=',')"
   ]
  },
  {
   "cell_type": "code",
   "execution_count": 4,
   "metadata": {},
   "outputs": [],
   "source": [
    "# distinguish between response and input variables and make training and test data \n",
    "# remove unnecessary features 'id', 'x_sw', 'y_sw','x_mp', 'y_mp'\n",
    "\n",
    "y = data_training['ks_Mortality_17']\n",
    "X = data_training.drop(['ks_Mortality_17', 'id', 'x_sw', 'y_sw','x_mp', 'y_mp'], axis = 1)\n",
    "\n",
    "pred_y = data_test['ks_Mortality_17']\n",
    "pred_X = data_test.drop(['ks_Mortality_17', 'id', 'x_sw', 'y_sw','x_mp', 'y_mp'], axis = 1)\n",
    "\n",
    "X_train, X_test, y_train, y_test = train_test_split(X, y, test_size = 0.2, random_state = 10)"
   ]
  },
  {
   "cell_type": "markdown",
   "metadata": {},
   "source": [
    "# Prediction"
   ]
  },
  {
   "cell_type": "code",
   "execution_count": 5,
   "metadata": {},
   "outputs": [],
   "source": [
    "def Prediction(method, X_train, X_test, y_train, y_test, pred_X, pred_y):\n",
    "    \n",
    "    '''Prediction Function'''\n",
    "    \n",
    "    if method == 'LR':\n",
    "        model = linear_model.LinearRegression().fit(X_train, y_train)\n",
    "    elif method == 'GAM':\n",
    "        model = GAM(s(0) + s(1) + s(2) + s(3) + s(4) + s(5) + s(6) + s(7) + s(8) + s(9)).fit(X_train, y_train)\n",
    "    elif method == 'RF':\n",
    "        model = RandomForestRegressor(n_estimators= 10, max_depth= 10, random_state= 0, max_features='sqrt').fit(X_train, y_train)\n",
    "    else:\n",
    "        model = xgboost.XGBRegressor().fit(X_train, y_train)\n",
    "    \n",
    "    y_pred_train = model.predict(X_train)\n",
    "    y_pred_test = model.predict(X_test)\n",
    "    y_pred = model.predict(pred_X)\n",
    "\n",
    "    result = {'Method': method, 'MSE_train': mean_squared_error(y_train, y_pred_train),\n",
    "                            'MAE_train': mean_absolute_error(y_train, y_pred_train), 'R_2_train': r2_score(y_train, y_pred_train),\n",
    "                           'MSE_test': mean_squared_error(y_test, y_pred_test), 'MAE_test': mean_absolute_error(y_test, y_pred_test),\n",
    "                           'R_2_test': r2_score(y_test, y_pred_test), 'MSE_pred': mean_squared_error(pred_y, y_pred), 'MAE_pred': mean_absolute_error(pred_y, y_pred),\n",
    "                           'R_2_pred': r2_score(pred_y, y_pred)}\n",
    "    \n",
    "    return result, pd.DataFrame(y_pred, columns = ['ks_Mortality_17'])"
   ]
  },
  {
   "cell_type": "markdown",
   "metadata": {},
   "source": [
    "### Prediction with different methods"
   ]
  },
  {
   "cell_type": "code",
   "execution_count": 6,
   "metadata": {
    "scrolled": false
   },
   "outputs": [
    {
     "data": {
      "text/html": [
       "<div>\n",
       "<style scoped>\n",
       "    .dataframe tbody tr th:only-of-type {\n",
       "        vertical-align: middle;\n",
       "    }\n",
       "\n",
       "    .dataframe tbody tr th {\n",
       "        vertical-align: top;\n",
       "    }\n",
       "\n",
       "    .dataframe thead th {\n",
       "        text-align: right;\n",
       "    }\n",
       "</style>\n",
       "<table border=\"1\" class=\"dataframe\">\n",
       "  <thead>\n",
       "    <tr style=\"text-align: right;\">\n",
       "      <th></th>\n",
       "      <th>Method</th>\n",
       "      <th>MSE_train</th>\n",
       "      <th>MAE_train</th>\n",
       "      <th>R_2_train</th>\n",
       "      <th>MSE_test</th>\n",
       "      <th>MAE_test</th>\n",
       "      <th>R_2_test</th>\n",
       "      <th>MSE_pred</th>\n",
       "      <th>MAE_pred</th>\n",
       "      <th>R_2_pred</th>\n",
       "    </tr>\n",
       "  </thead>\n",
       "  <tbody>\n",
       "    <tr>\n",
       "      <th>0</th>\n",
       "      <td>LR</td>\n",
       "      <td>0.356645</td>\n",
       "      <td>0.418341</td>\n",
       "      <td>0.901554</td>\n",
       "      <td>0.357570</td>\n",
       "      <td>0.417339</td>\n",
       "      <td>0.901419</td>\n",
       "      <td>1.499346</td>\n",
       "      <td>0.927773</td>\n",
       "      <td>0.557142</td>\n",
       "    </tr>\n",
       "    <tr>\n",
       "      <th>1</th>\n",
       "      <td>GAM</td>\n",
       "      <td>0.091077</td>\n",
       "      <td>0.183962</td>\n",
       "      <td>0.974860</td>\n",
       "      <td>0.125594</td>\n",
       "      <td>0.208670</td>\n",
       "      <td>0.965374</td>\n",
       "      <td>1.678240</td>\n",
       "      <td>0.996681</td>\n",
       "      <td>0.504303</td>\n",
       "    </tr>\n",
       "    <tr>\n",
       "      <th>2</th>\n",
       "      <td>RF</td>\n",
       "      <td>0.059473</td>\n",
       "      <td>0.128474</td>\n",
       "      <td>0.983583</td>\n",
       "      <td>0.182717</td>\n",
       "      <td>0.231410</td>\n",
       "      <td>0.949626</td>\n",
       "      <td>1.419871</td>\n",
       "      <td>0.906787</td>\n",
       "      <td>0.580616</td>\n",
       "    </tr>\n",
       "    <tr>\n",
       "      <th>3</th>\n",
       "      <td>XGBoost</td>\n",
       "      <td>0.000003</td>\n",
       "      <td>0.001231</td>\n",
       "      <td>0.999999</td>\n",
       "      <td>0.105029</td>\n",
       "      <td>0.143332</td>\n",
       "      <td>0.971044</td>\n",
       "      <td>1.287930</td>\n",
       "      <td>0.863227</td>\n",
       "      <td>0.619588</td>\n",
       "    </tr>\n",
       "  </tbody>\n",
       "</table>\n",
       "</div>"
      ],
      "text/plain": [
       "    Method  MSE_train  MAE_train  R_2_train  MSE_test  MAE_test  R_2_test  \\\n",
       "0       LR   0.356645   0.418341   0.901554  0.357570  0.417339  0.901419   \n",
       "1      GAM   0.091077   0.183962   0.974860  0.125594  0.208670  0.965374   \n",
       "2       RF   0.059473   0.128474   0.983583  0.182717  0.231410  0.949626   \n",
       "3  XGBoost   0.000003   0.001231   0.999999  0.105029  0.143332  0.971044   \n",
       "\n",
       "   MSE_pred  MAE_pred  R_2_pred  \n",
       "0  1.499346  0.927773  0.557142  \n",
       "1  1.678240  0.996681  0.504303  \n",
       "2  1.419871  0.906787  0.580616  \n",
       "3  1.287930  0.863227  0.619588  "
      ]
     },
     "execution_count": 6,
     "metadata": {},
     "output_type": "execute_result"
    }
   ],
   "source": [
    "result= pd.DataFrame(columns=['Method', 'MSE_train', 'MAE_train', 'R_2_train', 'MSE_test', 'MAE_test', 'R_2_test', 'MSE_pred', 'MAE_pred', 'R_2_pred'])\n",
    "\n",
    "# Linear Regression\n",
    "ToAppend, y_pred_LR = Prediction(method='LR', X_train=X_train, X_test=X_test, y_train=y_train, y_test=y_test, pred_X=pred_X, pred_y=pred_y)\n",
    "result = result.append(ToAppend, ignore_index=True)\n",
    "\n",
    "# GAM\n",
    "ToAppend, y_pred_GAM = Prediction(method='GAM', X_train=X_train, X_test=X_test, y_train=y_train, y_test=y_test, pred_X=pred_X, pred_y=pred_y)\n",
    "result = result.append(ToAppend, ignore_index=True)\n",
    "\n",
    "# Random Forest\n",
    "ToAppend, y_pred_RF = Prediction(method='RF', X_train=X_train, X_test=X_test, y_train=y_train, y_test=y_test, pred_X=pred_X, pred_y=pred_y)\n",
    "result = result.append(ToAppend, ignore_index=True)\n",
    "\n",
    "# XGBoost\n",
    "ToAppend, y_pred_XGBoost = Prediction(method='XGBoost', X_train=X_train, X_test=X_test, y_train=y_train, y_test=y_test, pred_X=pred_X, pred_y=pred_y)\n",
    "result = result.append(ToAppend, ignore_index=True)\n",
    "\n",
    "result.to_csv('../5_results/PredictionTask_results.csv', index=False, sep=',')\n",
    "\n",
    "result"
   ]
  },
  {
   "cell_type": "markdown",
   "metadata": {},
   "source": [
    "### Merge dataframes to make the final output dataset"
   ]
  },
  {
   "cell_type": "code",
   "execution_count": 180,
   "metadata": {},
   "outputs": [],
   "source": [
    "def OutputDataframe(data_training, data_test, y_pred, method):\n",
    "    \n",
    "    data_result= pd.DataFrame()\n",
    "    data_result = data_result.append(data_training)\n",
    "    data_result = data_result.append(pd.concat([data_test.drop(['ks_Mortality_17'], axis = 1),pd.DataFrame(y_pred)],axis=1))\n",
    "    data_result = data_result[['id', 'ks_Mortality_17']]\n",
    "    data_result.to_csv(('../5_results/prediction_results/prediction_result_'+method+'.csv'), sep=',', index=False)"
   ]
  },
  {
   "cell_type": "code",
   "execution_count": 181,
   "metadata": {},
   "outputs": [],
   "source": [
    "OutputDataframe(data_training,data_test, y_pred_XGBoost, 'XGBoost')"
   ]
  }
 ],
 "metadata": {
  "kernelspec": {
   "display_name": "Python 3",
   "language": "python",
   "name": "python3"
  },
  "language_info": {
   "codemirror_mode": {
    "name": "ipython",
    "version": 3
   },
   "file_extension": ".py",
   "mimetype": "text/x-python",
   "name": "python",
   "nbconvert_exporter": "python",
   "pygments_lexer": "ipython3",
   "version": "3.8.5"
  }
 },
 "nbformat": 4,
 "nbformat_minor": 4
}
