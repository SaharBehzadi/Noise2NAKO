{
 "cells": [
  {
   "cell_type": "code",
   "execution_count": 110,
   "metadata": {},
   "outputs": [],
   "source": [
    "'''Predicting Mortality across Germany wih different AI Methods\n",
    "'''\n",
    "\n",
    "import numpy as np\n",
    "import pandas as pd\n",
    "import os\n",
    "from matplotlib import pyplot as plt\n",
    "import sklearn\n",
    "from sklearn.model_selection import train_test_split\n",
    "from sklearn import impute\n",
    "from sklearn import linear_model\n",
    "from sklearn.metrics import mean_squared_error, mean_absolute_error, r2_score\n",
    "from sklearn.ensemble import RandomForestRegressor\n",
    "import dbf\n",
    "from pygam import GAM, s, f, LinearGAM\n",
    "import xgboost\n",
    "import warnings\n",
    "warnings.filterwarnings('ignore')\n",
    "%matplotlib inline"
   ]
  },
  {
   "cell_type": "markdown",
   "metadata": {},
   "source": [
    "### Load Data"
   ]
  },
  {
   "cell_type": "code",
   "execution_count": 111,
   "metadata": {},
   "outputs": [],
   "source": [
    "# Set the working directory\n",
    "os.chdir(\"N:/WG_ENRI/20_projects/Noise2NAKO/04_data/grid_prediction/3_output\")"
   ]
  },
  {
   "cell_type": "code",
   "execution_count": 112,
   "metadata": {
    "scrolled": true
   },
   "outputs": [],
   "source": [
    "# Read SES training and test data\n",
    "data_training = pd.read_csv('SES_training.csv', sep=',')\n",
    "data_test = pd.read_csv('SES_test.csv', sep=',')"
   ]
  },
  {
   "cell_type": "code",
   "execution_count": 125,
   "metadata": {},
   "outputs": [],
   "source": [
    "# distinguish between response and input variables and make training and test data \n",
    "# remove unnecessary features 'id', 'x_sw', 'y_sw','x_mp', 'y_mp'\n",
    "\n",
    "y = data_training['ks_Mortality_17']\n",
    "X = data_training.drop(['ks_Mortality_17', 'id', 'x_sw', 'y_sw','x_mp', 'y_mp'], axis = 1)\n",
    "\n",
    "pred_y = data_test['ks_Mortality_17']\n",
    "pred_X = data_test.drop(['ks_Mortality_17', 'id', 'x_sw', 'y_sw','x_mp', 'y_mp'], axis = 1)\n",
    "\n",
    "X_train, X_test, y_train, y_test = train_test_split(X, y, test_size = 0.2, random_state = 10)"
   ]
  },
  {
   "cell_type": "code",
   "execution_count": 130,
   "metadata": {},
   "outputs": [],
   "source": [
    "result= pd.DataFrame(columns=['Method', 'MSE_train', 'MAE_train', 'R_2_train', 'MSE_test', 'MAE_test', 'R_2_test', 'MSE_pred', 'MAE_pred', 'R_2_pred'])"
   ]
  },
  {
   "cell_type": "markdown",
   "metadata": {},
   "source": [
    "# Prediction"
   ]
  },
  {
   "cell_type": "code",
   "execution_count": 127,
   "metadata": {},
   "outputs": [],
   "source": [
    "def Prediction(method, X_train, X_test, y_train, y_test, pred_X, pred_y):\n",
    "    \n",
    "    '''Prediction Function'''\n",
    "    \n",
    "    if method == 'LR':\n",
    "        model = linear_model.LinearRegression().fit(X_train, y_train)\n",
    "    elif method == 'GAM':\n",
    "        model = GAM(s(0) + s(1) + s(2) + s(3) + s(4) + s(5) + s(6) + s(7) + s(8) + s(9)).fit(X_train, y_train)\n",
    "    elif method == 'RF':\n",
    "        model = RandomForestRegressor(n_estimators= 10, max_depth= 10, random_state= 0, max_features='sqrt').fit(X_train, y_train)\n",
    "    else:\n",
    "        model = xgboost.XGBRegressor().fit(X_train, y_train)\n",
    "    \n",
    "    y_pred_train = model.predict(X_train)\n",
    "    y_pred_test = model.predict(X_test)\n",
    "    y_pred = model.predict(pred_X)\n",
    "\n",
    "    result = {'Method': method, 'MSE_train': mean_squared_error(y_train, y_pred_train),\n",
    "                            'MAE_train': mean_absolute_error(y_train, y_pred_train), 'R_2_train': r2_score(y_train, y_pred_train),\n",
    "                           'MSE_test': mean_squared_error(y_test, y_pred_test), 'MAE_test': mean_absolute_error(y_test, y_pred_test),\n",
    "                           'R_2_test': r2_score(y_test, y_pred_test), 'MSE_pred': mean_squared_error(pred_y, y_pred), 'MAE_pred': mean_absolute_error(pred_y, y_pred),\n",
    "                           'R_2_pred': r2_score(pred_y, y_pred)}\n",
    "    return result"
   ]
  },
  {
   "cell_type": "markdown",
   "metadata": {},
   "source": [
    "### Prediction with different methods"
   ]
  },
  {
   "cell_type": "code",
   "execution_count": 131,
   "metadata": {
    "scrolled": false
   },
   "outputs": [
    {
     "data": {
      "text/html": [
       "<div>\n",
       "<style scoped>\n",
       "    .dataframe tbody tr th:only-of-type {\n",
       "        vertical-align: middle;\n",
       "    }\n",
       "\n",
       "    .dataframe tbody tr th {\n",
       "        vertical-align: top;\n",
       "    }\n",
       "\n",
       "    .dataframe thead th {\n",
       "        text-align: right;\n",
       "    }\n",
       "</style>\n",
       "<table border=\"1\" class=\"dataframe\">\n",
       "  <thead>\n",
       "    <tr style=\"text-align: right;\">\n",
       "      <th></th>\n",
       "      <th>Method</th>\n",
       "      <th>MSE_train</th>\n",
       "      <th>MAE_train</th>\n",
       "      <th>R_2_train</th>\n",
       "      <th>MSE_test</th>\n",
       "      <th>MAE_test</th>\n",
       "      <th>R_2_test</th>\n",
       "      <th>MSE_pred</th>\n",
       "      <th>MAE_pred</th>\n",
       "      <th>R_2_pred</th>\n",
       "    </tr>\n",
       "  </thead>\n",
       "  <tbody>\n",
       "    <tr>\n",
       "      <th>0</th>\n",
       "      <td>LR</td>\n",
       "      <td>0.384853</td>\n",
       "      <td>0.426614</td>\n",
       "      <td>0.893768</td>\n",
       "      <td>0.361315</td>\n",
       "      <td>0.409386</td>\n",
       "      <td>0.900386</td>\n",
       "      <td>1.567778</td>\n",
       "      <td>0.955292</td>\n",
       "      <td>0.536930</td>\n",
       "    </tr>\n",
       "    <tr>\n",
       "      <th>1</th>\n",
       "      <td>GAM</td>\n",
       "      <td>0.091077</td>\n",
       "      <td>0.183962</td>\n",
       "      <td>0.974860</td>\n",
       "      <td>0.125594</td>\n",
       "      <td>0.208670</td>\n",
       "      <td>0.965374</td>\n",
       "      <td>1.678240</td>\n",
       "      <td>0.996681</td>\n",
       "      <td>0.504303</td>\n",
       "    </tr>\n",
       "    <tr>\n",
       "      <th>2</th>\n",
       "      <td>RF</td>\n",
       "      <td>0.030275</td>\n",
       "      <td>0.077560</td>\n",
       "      <td>0.991643</td>\n",
       "      <td>0.123404</td>\n",
       "      <td>0.161132</td>\n",
       "      <td>0.965978</td>\n",
       "      <td>1.330406</td>\n",
       "      <td>0.880585</td>\n",
       "      <td>0.607041</td>\n",
       "    </tr>\n",
       "    <tr>\n",
       "      <th>3</th>\n",
       "      <td>XGBoost</td>\n",
       "      <td>0.000011</td>\n",
       "      <td>0.002114</td>\n",
       "      <td>0.999997</td>\n",
       "      <td>0.098933</td>\n",
       "      <td>0.126608</td>\n",
       "      <td>0.972724</td>\n",
       "      <td>1.323051</td>\n",
       "      <td>0.872430</td>\n",
       "      <td>0.609214</td>\n",
       "    </tr>\n",
       "  </tbody>\n",
       "</table>\n",
       "</div>"
      ],
      "text/plain": [
       "    Method  MSE_train  MAE_train  R_2_train  MSE_test  MAE_test  R_2_test  \\\n",
       "0       LR   0.384853   0.426614   0.893768  0.361315  0.409386  0.900386   \n",
       "1      GAM   0.091077   0.183962   0.974860  0.125594  0.208670  0.965374   \n",
       "2       RF   0.030275   0.077560   0.991643  0.123404  0.161132  0.965978   \n",
       "3  XGBoost   0.000011   0.002114   0.999997  0.098933  0.126608  0.972724   \n",
       "\n",
       "   MSE_pred  MAE_pred  R_2_pred  \n",
       "0  1.567778  0.955292  0.536930  \n",
       "1  1.678240  0.996681  0.504303  \n",
       "2  1.330406  0.880585  0.607041  \n",
       "3  1.323051  0.872430  0.609214  "
      ]
     },
     "execution_count": 131,
     "metadata": {},
     "output_type": "execute_result"
    }
   ],
   "source": [
    "# Linear Regression\n",
    "result = result.append(Prediction(method='LR', X_train=X_train, X_test=X_test, y_train=y_train, y_test=y_test, pred_X=pred_X, pred_y=pred_y), ignore_index=True)\n",
    "\n",
    "# GAM\n",
    "result = result.append(Prediction(method='GAM', X_train=X_train, X_test=X_test, y_train=y_train, y_test=y_test, pred_X=pred_X, pred_y=pred_y), ignore_index=True)\n",
    "\n",
    "# Random Forest\n",
    "result = result.append(Prediction(method='RF', X_train=X_train, X_test=X_test, y_train=y_train, y_test=y_test, pred_X=pred_X, pred_y=pred_y), ignore_index=True)\n",
    "\n",
    "# XGBoost\n",
    "result = result.append(Prediction(method='XGBoost', X_train=X_train, X_test=X_test, y_train=y_train, y_test=y_test, pred_X=pred_X, pred_y=pred_y), ignore_index=True)\n",
    "\n",
    "result"
   ]
  },
  {
   "cell_type": "code",
   "execution_count": 132,
   "metadata": {},
   "outputs": [],
   "source": [
    "result.to_csv('PredictionTask_results.csv', index=False, sep=',')"
   ]
  }
 ],
 "metadata": {
  "kernelspec": {
   "display_name": "Python 3",
   "language": "python",
   "name": "python3"
  },
  "language_info": {
   "codemirror_mode": {
    "name": "ipython",
    "version": 3
   },
   "file_extension": ".py",
   "mimetype": "text/x-python",
   "name": "python",
   "nbconvert_exporter": "python",
   "pygments_lexer": "ipython3",
   "version": "3.8.5"
  }
 },
 "nbformat": 4,
 "nbformat_minor": 4
}
